{
  "nbformat": 4,
  "nbformat_minor": 0,
  "metadata": {
    "colab": {
      "provenance": []
    },
    "kernelspec": {
      "name": "python3",
      "display_name": "Python 3"
    },
    "language_info": {
      "name": "python"
    },
    "widgets": {
      "application/vnd.jupyter.widget-state+json": {
        "4f678322c95743ea8c5baea337431db4": {
          "model_module": "@jupyter-widgets/controls",
          "model_name": "HBoxModel",
          "model_module_version": "1.5.0",
          "state": {
            "_dom_classes": [],
            "_model_module": "@jupyter-widgets/controls",
            "_model_module_version": "1.5.0",
            "_model_name": "HBoxModel",
            "_view_count": null,
            "_view_module": "@jupyter-widgets/controls",
            "_view_module_version": "1.5.0",
            "_view_name": "HBoxView",
            "box_style": "",
            "children": [
              "IPY_MODEL_bde6161fa96c45eba94d4df79e17b28a",
              "IPY_MODEL_91843851df51466ca1fbf9c4b2143a6c",
              "IPY_MODEL_10f5796bb98e4130ba3fff05d39e685b"
            ],
            "layout": "IPY_MODEL_bc082e9403554dc9a940161278621e90"
          }
        },
        "bde6161fa96c45eba94d4df79e17b28a": {
          "model_module": "@jupyter-widgets/controls",
          "model_name": "HTMLModel",
          "model_module_version": "1.5.0",
          "state": {
            "_dom_classes": [],
            "_model_module": "@jupyter-widgets/controls",
            "_model_module_version": "1.5.0",
            "_model_name": "HTMLModel",
            "_view_count": null,
            "_view_module": "@jupyter-widgets/controls",
            "_view_module_version": "1.5.0",
            "_view_name": "HTMLView",
            "description": "",
            "description_tooltip": null,
            "layout": "IPY_MODEL_11eb5f2b9886434eb5722eb35cdb1cc1",
            "placeholder": "​",
            "style": "IPY_MODEL_59ed628bf13640baa5677cb47f3bad13",
            "value": "100%"
          }
        },
        "91843851df51466ca1fbf9c4b2143a6c": {
          "model_module": "@jupyter-widgets/controls",
          "model_name": "FloatProgressModel",
          "model_module_version": "1.5.0",
          "state": {
            "_dom_classes": [],
            "_model_module": "@jupyter-widgets/controls",
            "_model_module_version": "1.5.0",
            "_model_name": "FloatProgressModel",
            "_view_count": null,
            "_view_module": "@jupyter-widgets/controls",
            "_view_module_version": "1.5.0",
            "_view_name": "ProgressView",
            "bar_style": "success",
            "description": "",
            "description_tooltip": null,
            "layout": "IPY_MODEL_7c1ccaae23f54445aecca1edde093ed8",
            "max": 3,
            "min": 0,
            "orientation": "horizontal",
            "style": "IPY_MODEL_296cb0bbb5ef47e1afbe2b3cb4474129",
            "value": 3
          }
        },
        "10f5796bb98e4130ba3fff05d39e685b": {
          "model_module": "@jupyter-widgets/controls",
          "model_name": "HTMLModel",
          "model_module_version": "1.5.0",
          "state": {
            "_dom_classes": [],
            "_model_module": "@jupyter-widgets/controls",
            "_model_module_version": "1.5.0",
            "_model_name": "HTMLModel",
            "_view_count": null,
            "_view_module": "@jupyter-widgets/controls",
            "_view_module_version": "1.5.0",
            "_view_name": "HTMLView",
            "description": "",
            "description_tooltip": null,
            "layout": "IPY_MODEL_e20d319a44bf494396f5eac5c62e89e9",
            "placeholder": "​",
            "style": "IPY_MODEL_eff8cb3917714f8cb47db93e70b2647a",
            "value": " 3/3 [00:00&lt;00:00,  4.05it/s]"
          }
        },
        "bc082e9403554dc9a940161278621e90": {
          "model_module": "@jupyter-widgets/base",
          "model_name": "LayoutModel",
          "model_module_version": "1.2.0",
          "state": {
            "_model_module": "@jupyter-widgets/base",
            "_model_module_version": "1.2.0",
            "_model_name": "LayoutModel",
            "_view_count": null,
            "_view_module": "@jupyter-widgets/base",
            "_view_module_version": "1.2.0",
            "_view_name": "LayoutView",
            "align_content": null,
            "align_items": null,
            "align_self": null,
            "border": null,
            "bottom": null,
            "display": null,
            "flex": null,
            "flex_flow": null,
            "grid_area": null,
            "grid_auto_columns": null,
            "grid_auto_flow": null,
            "grid_auto_rows": null,
            "grid_column": null,
            "grid_gap": null,
            "grid_row": null,
            "grid_template_areas": null,
            "grid_template_columns": null,
            "grid_template_rows": null,
            "height": null,
            "justify_content": null,
            "justify_items": null,
            "left": null,
            "margin": null,
            "max_height": null,
            "max_width": null,
            "min_height": null,
            "min_width": null,
            "object_fit": null,
            "object_position": null,
            "order": null,
            "overflow": null,
            "overflow_x": null,
            "overflow_y": null,
            "padding": null,
            "right": null,
            "top": null,
            "visibility": null,
            "width": null
          }
        },
        "11eb5f2b9886434eb5722eb35cdb1cc1": {
          "model_module": "@jupyter-widgets/base",
          "model_name": "LayoutModel",
          "model_module_version": "1.2.0",
          "state": {
            "_model_module": "@jupyter-widgets/base",
            "_model_module_version": "1.2.0",
            "_model_name": "LayoutModel",
            "_view_count": null,
            "_view_module": "@jupyter-widgets/base",
            "_view_module_version": "1.2.0",
            "_view_name": "LayoutView",
            "align_content": null,
            "align_items": null,
            "align_self": null,
            "border": null,
            "bottom": null,
            "display": null,
            "flex": null,
            "flex_flow": null,
            "grid_area": null,
            "grid_auto_columns": null,
            "grid_auto_flow": null,
            "grid_auto_rows": null,
            "grid_column": null,
            "grid_gap": null,
            "grid_row": null,
            "grid_template_areas": null,
            "grid_template_columns": null,
            "grid_template_rows": null,
            "height": null,
            "justify_content": null,
            "justify_items": null,
            "left": null,
            "margin": null,
            "max_height": null,
            "max_width": null,
            "min_height": null,
            "min_width": null,
            "object_fit": null,
            "object_position": null,
            "order": null,
            "overflow": null,
            "overflow_x": null,
            "overflow_y": null,
            "padding": null,
            "right": null,
            "top": null,
            "visibility": null,
            "width": null
          }
        },
        "59ed628bf13640baa5677cb47f3bad13": {
          "model_module": "@jupyter-widgets/controls",
          "model_name": "DescriptionStyleModel",
          "model_module_version": "1.5.0",
          "state": {
            "_model_module": "@jupyter-widgets/controls",
            "_model_module_version": "1.5.0",
            "_model_name": "DescriptionStyleModel",
            "_view_count": null,
            "_view_module": "@jupyter-widgets/base",
            "_view_module_version": "1.2.0",
            "_view_name": "StyleView",
            "description_width": ""
          }
        },
        "7c1ccaae23f54445aecca1edde093ed8": {
          "model_module": "@jupyter-widgets/base",
          "model_name": "LayoutModel",
          "model_module_version": "1.2.0",
          "state": {
            "_model_module": "@jupyter-widgets/base",
            "_model_module_version": "1.2.0",
            "_model_name": "LayoutModel",
            "_view_count": null,
            "_view_module": "@jupyter-widgets/base",
            "_view_module_version": "1.2.0",
            "_view_name": "LayoutView",
            "align_content": null,
            "align_items": null,
            "align_self": null,
            "border": null,
            "bottom": null,
            "display": null,
            "flex": null,
            "flex_flow": null,
            "grid_area": null,
            "grid_auto_columns": null,
            "grid_auto_flow": null,
            "grid_auto_rows": null,
            "grid_column": null,
            "grid_gap": null,
            "grid_row": null,
            "grid_template_areas": null,
            "grid_template_columns": null,
            "grid_template_rows": null,
            "height": null,
            "justify_content": null,
            "justify_items": null,
            "left": null,
            "margin": null,
            "max_height": null,
            "max_width": null,
            "min_height": null,
            "min_width": null,
            "object_fit": null,
            "object_position": null,
            "order": null,
            "overflow": null,
            "overflow_x": null,
            "overflow_y": null,
            "padding": null,
            "right": null,
            "top": null,
            "visibility": null,
            "width": null
          }
        },
        "296cb0bbb5ef47e1afbe2b3cb4474129": {
          "model_module": "@jupyter-widgets/controls",
          "model_name": "ProgressStyleModel",
          "model_module_version": "1.5.0",
          "state": {
            "_model_module": "@jupyter-widgets/controls",
            "_model_module_version": "1.5.0",
            "_model_name": "ProgressStyleModel",
            "_view_count": null,
            "_view_module": "@jupyter-widgets/base",
            "_view_module_version": "1.2.0",
            "_view_name": "StyleView",
            "bar_color": null,
            "description_width": ""
          }
        },
        "e20d319a44bf494396f5eac5c62e89e9": {
          "model_module": "@jupyter-widgets/base",
          "model_name": "LayoutModel",
          "model_module_version": "1.2.0",
          "state": {
            "_model_module": "@jupyter-widgets/base",
            "_model_module_version": "1.2.0",
            "_model_name": "LayoutModel",
            "_view_count": null,
            "_view_module": "@jupyter-widgets/base",
            "_view_module_version": "1.2.0",
            "_view_name": "LayoutView",
            "align_content": null,
            "align_items": null,
            "align_self": null,
            "border": null,
            "bottom": null,
            "display": null,
            "flex": null,
            "flex_flow": null,
            "grid_area": null,
            "grid_auto_columns": null,
            "grid_auto_flow": null,
            "grid_auto_rows": null,
            "grid_column": null,
            "grid_gap": null,
            "grid_row": null,
            "grid_template_areas": null,
            "grid_template_columns": null,
            "grid_template_rows": null,
            "height": null,
            "justify_content": null,
            "justify_items": null,
            "left": null,
            "margin": null,
            "max_height": null,
            "max_width": null,
            "min_height": null,
            "min_width": null,
            "object_fit": null,
            "object_position": null,
            "order": null,
            "overflow": null,
            "overflow_x": null,
            "overflow_y": null,
            "padding": null,
            "right": null,
            "top": null,
            "visibility": null,
            "width": null
          }
        },
        "eff8cb3917714f8cb47db93e70b2647a": {
          "model_module": "@jupyter-widgets/controls",
          "model_name": "DescriptionStyleModel",
          "model_module_version": "1.5.0",
          "state": {
            "_model_module": "@jupyter-widgets/controls",
            "_model_module_version": "1.5.0",
            "_model_name": "DescriptionStyleModel",
            "_view_count": null,
            "_view_module": "@jupyter-widgets/base",
            "_view_module_version": "1.2.0",
            "_view_name": "StyleView",
            "description_width": ""
          }
        }
      }
    },
    "accelerator": "GPU",
    "gpuClass": "standard"
  },
  "cells": [
    {
      "cell_type": "code",
      "execution_count": null,
      "metadata": {
        "id": "2vsSYVPWwgXW"
      },
      "outputs": [],
      "source": [
        "# Install necessary packages\n",
        "!pip install datasets\n",
        "!pip install sentencepiece\n",
        "!pip install transformers==4.21.3 "
      ]
    },
    {
      "cell_type": "code",
      "source": [
        "# Import the dataset\n",
        "import torch\n",
        "from datasets import load_dataset\n",
        "answersumm = load_dataset(\"alexfabbri/answersumm\")\n",
        "device = \"cuda:0\" if torch.cuda.is_available() else \"cpu\""
      ],
      "metadata": {
        "colab": {
          "base_uri": "https://localhost:8080/",
          "height": 104,
          "referenced_widgets": [
            "4f678322c95743ea8c5baea337431db4",
            "bde6161fa96c45eba94d4df79e17b28a",
            "91843851df51466ca1fbf9c4b2143a6c",
            "10f5796bb98e4130ba3fff05d39e685b",
            "bc082e9403554dc9a940161278621e90",
            "11eb5f2b9886434eb5722eb35cdb1cc1",
            "59ed628bf13640baa5677cb47f3bad13",
            "7c1ccaae23f54445aecca1edde093ed8",
            "296cb0bbb5ef47e1afbe2b3cb4474129",
            "e20d319a44bf494396f5eac5c62e89e9",
            "eff8cb3917714f8cb47db93e70b2647a"
          ]
        },
        "id": "vy8dFc9-wtc6",
        "outputId": "f78e8cf1-8342-4f9c-aea3-ec7cc05dee43"
      },
      "execution_count": null,
      "outputs": [
        {
          "output_type": "stream",
          "name": "stderr",
          "text": [
            "WARNING:datasets.builder:Using custom data configuration alexfabbri--answersumm-5824ede3901b0cfa\n",
            "WARNING:datasets.builder:Found cached dataset json (/root/.cache/huggingface/datasets/alexfabbri___json/alexfabbri--answersumm-5824ede3901b0cfa/0.0.0/e6070c77f18f01a5ad4551a8b7edfba20b8438b7cad4d94e6ad9378022ce4aab)\n"
          ]
        },
        {
          "output_type": "display_data",
          "data": {
            "text/plain": [
              "  0%|          | 0/3 [00:00<?, ?it/s]"
            ],
            "application/vnd.jupyter.widget-view+json": {
              "version_major": 2,
              "version_minor": 0,
              "model_id": "4f678322c95743ea8c5baea337431db4"
            }
          },
          "metadata": {}
        }
      ]
    },
    {
      "cell_type": "code",
      "source": [
        "all_full_answers = []\n",
        "\n",
        "for answer in answersumm[\"train\"][1][\"answers\"]:\n",
        "    full_answer = []\n",
        "\n",
        "    for sentence in answer['sents']:\n",
        "        full_answer.append(sentence[\"text\"])\n",
        "\n",
        "    fullanswer = \" \".join(full_answer)\n",
        "    all_full_answers.append(fullanswer)\n",
        "    # print(fullanswer, end=\"\\n\\n\")\n",
        "\n",
        "passage = \"\"\n",
        "for summary in all_full_answers:\n",
        "    passage = passage + summary + \" \"\n",
        "passage = passage[:-1]\n",
        "passage\n",
        "len(answersumm[\"train\"])"
      ],
      "metadata": {
        "colab": {
          "base_uri": "https://localhost:8080/"
        },
        "id": "rH1WQI28w870",
        "outputId": "5cef8d0e-2407-4da4-cef9-7b4c2a90e486"
      },
      "execution_count": null,
      "outputs": [
        {
          "output_type": "execute_result",
          "data": {
            "text/plain": [
              "2783"
            ]
          },
          "metadata": {},
          "execution_count": 74
        }
      ]
    },
    {
      "cell_type": "code",
      "source": [
        "# t5-base Model\n",
        "from transformers import pipeline\n",
        "\n",
        "summarizer = pipeline(\"summarization\", model=\"facebook/bart-large-cnn\")\n",
        "# summarizer.device = 0\n",
        "# summary_text = summarizer(passage[:-1], truncation=True, model_max_length=512, max_length=100, min_length=5, do_sample=False)[0]['summary_text']\n",
        "# print(summary_text)"
      ],
      "metadata": {
        "id": "IYPfB_sE7TJF"
      },
      "execution_count": null,
      "outputs": []
    },
    {
      "cell_type": "code",
      "source": [
        "# del summarizer.device\n",
        "summary_text = summarizer(passage[:-1], max_length=100, min_length=5, do_sample=False)[0]['summary_text']\n",
        "print(summary_text)"
      ],
      "metadata": {
        "colab": {
          "base_uri": "https://localhost:8080/"
        },
        "id": "0x_Gt_COpoXy",
        "outputId": "b7a07f5c-5feb-45ad-dc41-4df6fe2b4010"
      },
      "execution_count": null,
      "outputs": [
        {
          "output_type": "stream",
          "name": "stdout",
          "text": [
            "To imitate her writing style read as much of her writing as you can. Check her correspondence, and cut-and-paste from it. Create yourself a library of templates from her correspondence. Create a listing of her favorite expressions.\n"
          ]
        }
      ]
    },
    {
      "cell_type": "code",
      "source": [
        "# Get the summary of the text from the dataset\n",
        "summaries = []\n",
        "\n",
        "for summary in answersumm[\"train\"][\"summaries\"][1]:\n",
        "    full_summary = []\n",
        "\n",
        "    for sentence in summary:\n",
        "        full_summary.append(sentence)\n",
        "\n",
        "    fullsummary = \" \".join(full_summary)\n",
        "    summaries.append(fullsummary)\n",
        "    # print(fullanswer, end=\"\\n\\n\")\n",
        "\n",
        "reference_text = summaries[0]\n",
        "reference_text"
      ],
      "metadata": {
        "colab": {
          "base_uri": "https://localhost:8080/",
          "height": 105
        },
        "id": "E4LXKDiYAvT5",
        "outputId": "9c21e943-be9b-4f36-a177-3dfd2def1a71"
      },
      "execution_count": null,
      "outputs": [
        {
          "output_type": "execute_result",
          "data": {
            "text/plain": [
              "\"Read as much of her writing as you can for inspiration and make a list of her favourite expressions that you can cut and paste into your writing. Write a draft letter and ask for her opinion on it.  An important step when trying to imitate your boss' writing style would be to read her previous correspondence for inspiration. From this, you can also try to identify commonly used expressions and idioms or even create a template for future correspondence. Of course, you may also wish to get her feedback on any draft letters that you do write.\""
            ],
            "application/vnd.google.colaboratory.intrinsic+json": {
              "type": "string"
            }
          },
          "metadata": {},
          "execution_count": 79
        }
      ]
    },
    {
      "cell_type": "code",
      "source": [
        "!pip install rouge"
      ],
      "metadata": {
        "colab": {
          "base_uri": "https://localhost:8080/"
        },
        "id": "WWmdwR-hCaMP",
        "outputId": "2a37ef00-a132-4d6c-a8fd-56ce5b307260"
      },
      "execution_count": null,
      "outputs": [
        {
          "output_type": "stream",
          "name": "stdout",
          "text": [
            "Looking in indexes: https://pypi.org/simple, https://us-python.pkg.dev/colab-wheels/public/simple/\n",
            "Requirement already satisfied: rouge in /usr/local/lib/python3.7/dist-packages (1.0.1)\n",
            "Requirement already satisfied: six in /usr/local/lib/python3.7/dist-packages (from rouge) (1.15.0)\n"
          ]
        }
      ]
    },
    {
      "cell_type": "code",
      "source": [
        "# Calculate the ROUGE scores for the different summaries\n",
        "from rouge import Rouge\n",
        "rouge = Rouge()\n",
        "\n",
        "rouge.get_scores(summary_text, reference_text)"
      ],
      "metadata": {
        "colab": {
          "base_uri": "https://localhost:8080/"
        },
        "id": "-DpOX3B1B9hv",
        "outputId": "77884476-b461-4b4b-eed5-2858625ed65a"
      },
      "execution_count": null,
      "outputs": [
        {
          "output_type": "execute_result",
          "data": {
            "text/plain": [
              "[{'rouge-1': {'r': 0.23076923076923078,\n",
              "   'p': 0.5769230769230769,\n",
              "   'f': 0.329670325588697},\n",
              "  'rouge-2': {'r': 0.08695652173913043,\n",
              "   'p': 0.23529411764705882,\n",
              "   'f': 0.12698412304358792},\n",
              "  'rouge-l': {'r': 0.23076923076923078,\n",
              "   'p': 0.5769230769230769,\n",
              "   'f': 0.329670325588697}}]"
            ]
          },
          "metadata": {},
          "execution_count": 81
        }
      ]
    },
    {
      "cell_type": "code",
      "source": [
        "# Initialise parameters\n",
        "MAX_COUNT = 100"
      ],
      "metadata": {
        "id": "JrCTnUQjQqHR"
      },
      "execution_count": null,
      "outputs": []
    },
    {
      "cell_type": "code",
      "source": [
        "# Extract the questions\n",
        "questions = []\n",
        "for i in range(MAX_COUNT):\n",
        "  all_full_answers = []\n",
        "  for answer in answersumm[\"train\"][i][\"answers\"]:\n",
        "    full_answer = []\n",
        "\n",
        "    for sentence in answer['sents']:\n",
        "      full_answer.append(sentence[\"text\"])\n",
        "\n",
        "    fullanswer = \" \".join(full_answer)\n",
        "    all_full_answers.append(fullanswer)\n",
        "\n",
        "  passage = \"\"\n",
        "  for summary in all_full_answers:\n",
        "    passage = passage + summary + \" \"\n",
        "\n",
        "  questions.append(passage[:-1])\n",
        "\n",
        "# Extract the corresponding summaries\n",
        "summaries = []\n",
        "for i in range(MAX_COUNT):\n",
        "  for summ in answersumm[\"train\"][\"summaries\"][i]:\n",
        "    full_summary = []\n",
        "\n",
        "    for sentence in summ:\n",
        "      full_summary.append(sentence)\n",
        "\n",
        "    fullsummary = \" \".join(full_summary)\n",
        "  summaries.append(fullsummary)"
      ],
      "metadata": {
        "id": "Dn7ATvqPQ5Ot"
      },
      "execution_count": null,
      "outputs": []
    },
    {
      "cell_type": "code",
      "source": [
        "from tqdm import tqdm"
      ],
      "metadata": {
        "id": "cK2qbYyhoj12"
      },
      "execution_count": null,
      "outputs": []
    },
    {
      "cell_type": "code",
      "source": [
        "# Run the model\n",
        "model_text = []\n",
        "for i in tqdm(range(100)):\n",
        "  summary_text = summarizer(questions[i], max_length=100, min_length=5, do_sample=False)[0]['summary_text']\n",
        "  model_text.append(summary_text)"
      ],
      "metadata": {
        "id": "v80_BmZbUeFo"
      },
      "execution_count": null,
      "outputs": []
    },
    {
      "cell_type": "code",
      "source": [
        "# Calculate Rouge Scores\n",
        "avg_r1 = 0\n",
        "avg_r2 = 0\n",
        "avg_rl = 0\n",
        "for i in range(14):\n",
        "  scores = rouge.get_scores(model_text[i], summaries[i])\n",
        "  avg_r1 += scores[0][\"rouge-1\"]['f']\n",
        "  avg_r2 += scores[0][\"rouge-2\"]['f']\n",
        "  avg_rl += scores[0][\"rouge-l\"]['f']\n",
        "           \n",
        "\n",
        "avg_r1 = avg_r1 * 100.0 / MAX_COUNT\n",
        "avg_r2 = avg_r2 * 100.0 / MAX_COUNT\n",
        "avg_rl = avg_rl * 100.0 / MAX_COUNT\n",
        "avg_r1,avg_r2,avg_rl"
      ],
      "metadata": {
        "colab": {
          "base_uri": "https://localhost:8080/"
        },
        "id": "N-Q8m1YcWmK6",
        "outputId": "dac80948-ea1d-4afa-eb0d-388aefa6b742"
      },
      "execution_count": null,
      "outputs": [
        {
          "output_type": "execute_result",
          "data": {
            "text/plain": [
              "(3.524440287429318, 0.7791491352038669, 3.069827975152606)"
            ]
          },
          "metadata": {},
          "execution_count": 86
        }
      ]
    },
    {
      "cell_type": "markdown",
      "source": [
        "(24.737984077420254, 5.344360780333648, 21.933849116934454)\n"
      ],
      "metadata": {
        "id": "lCS9L1WVsmcE"
      }
    },
    {
      "cell_type": "code",
      "source": [
        "# save model_text to a text file\n",
        "with open('model_text.txt', 'w') as f:\n",
        "  for item in model_text:\n",
        "    # write summary one by one\n",
        "    f.write(\"%s\\n\\n\" % item)"
      ],
      "metadata": {
        "id": "eMi3s1Nd3c0i"
      },
      "execution_count": null,
      "outputs": []
    }
  ]
}