{
  "cells": [
    {
      "cell_type": "code",
      "execution_count": null,
      "metadata": {
        "colab": {
          "base_uri": "https://localhost:8080/"
        },
        "id": "pFp8u0djaiXz",
        "outputId": "da47a00e-0755-47e7-9889-6019bcde3104"
      },
      "outputs": [
        {
          "name": "stdout",
          "output_type": "stream",
          "text": [
            "Looking in indexes: https://pypi.org/simple, https://us-python.pkg.dev/colab-wheels/public/simple/\n",
            "Requirement already satisfied: sentence-transformers in /usr/local/lib/python3.7/dist-packages (2.2.2)\n",
            "Requirement already satisfied: huggingface-hub>=0.4.0 in /usr/local/lib/python3.7/dist-packages (from sentence-transformers) (0.11.0)\n",
            "Requirement already satisfied: numpy in /usr/local/lib/python3.7/dist-packages (from sentence-transformers) (1.21.6)\n",
            "Requirement already satisfied: scipy in /usr/local/lib/python3.7/dist-packages (from sentence-transformers) (1.7.3)\n",
            "Requirement already satisfied: tqdm in /usr/local/lib/python3.7/dist-packages (from sentence-transformers) (4.64.1)\n",
            "Requirement already satisfied: torch>=1.6.0 in /usr/local/lib/python3.7/dist-packages (from sentence-transformers) (1.12.1+cu113)\n",
            "Requirement already satisfied: nltk in /usr/local/lib/python3.7/dist-packages (from sentence-transformers) (3.7)\n",
            "Requirement already satisfied: sentencepiece in /usr/local/lib/python3.7/dist-packages (from sentence-transformers) (0.1.97)\n",
            "Requirement already satisfied: scikit-learn in /usr/local/lib/python3.7/dist-packages (from sentence-transformers) (1.0.2)\n",
            "Requirement already satisfied: torchvision in /usr/local/lib/python3.7/dist-packages (from sentence-transformers) (0.13.1+cu113)\n",
            "Requirement already satisfied: transformers<5.0.0,>=4.6.0 in /usr/local/lib/python3.7/dist-packages (from sentence-transformers) (4.21.3)\n",
            "Requirement already satisfied: typing-extensions>=3.7.4.3 in /usr/local/lib/python3.7/dist-packages (from huggingface-hub>=0.4.0->sentence-transformers) (4.1.1)\n",
            "Requirement already satisfied: pyyaml>=5.1 in /usr/local/lib/python3.7/dist-packages (from huggingface-hub>=0.4.0->sentence-transformers) (6.0)\n",
            "Requirement already satisfied: requests in /usr/local/lib/python3.7/dist-packages (from huggingface-hub>=0.4.0->sentence-transformers) (2.23.0)\n",
            "Requirement already satisfied: importlib-metadata in /usr/local/lib/python3.7/dist-packages (from huggingface-hub>=0.4.0->sentence-transformers) (4.13.0)\n",
            "Requirement already satisfied: filelock in /usr/local/lib/python3.7/dist-packages (from huggingface-hub>=0.4.0->sentence-transformers) (3.8.0)\n",
            "Requirement already satisfied: packaging>=20.9 in /usr/local/lib/python3.7/dist-packages (from huggingface-hub>=0.4.0->sentence-transformers) (21.3)\n",
            "Requirement already satisfied: pyparsing!=3.0.5,>=2.0.2 in /usr/local/lib/python3.7/dist-packages (from packaging>=20.9->huggingface-hub>=0.4.0->sentence-transformers) (3.0.9)\n",
            "Requirement already satisfied: regex!=2019.12.17 in /usr/local/lib/python3.7/dist-packages (from transformers<5.0.0,>=4.6.0->sentence-transformers) (2022.6.2)\n",
            "Requirement already satisfied: tokenizers!=0.11.3,<0.13,>=0.11.1 in /usr/local/lib/python3.7/dist-packages (from transformers<5.0.0,>=4.6.0->sentence-transformers) (0.12.1)\n",
            "Requirement already satisfied: zipp>=0.5 in /usr/local/lib/python3.7/dist-packages (from importlib-metadata->huggingface-hub>=0.4.0->sentence-transformers) (3.10.0)\n",
            "Requirement already satisfied: joblib in /usr/local/lib/python3.7/dist-packages (from nltk->sentence-transformers) (1.2.0)\n",
            "Requirement already satisfied: click in /usr/local/lib/python3.7/dist-packages (from nltk->sentence-transformers) (7.1.2)\n",
            "Requirement already satisfied: certifi>=2017.4.17 in /usr/local/lib/python3.7/dist-packages (from requests->huggingface-hub>=0.4.0->sentence-transformers) (2022.9.24)\n",
            "Requirement already satisfied: urllib3!=1.25.0,!=1.25.1,<1.26,>=1.21.1 in /usr/local/lib/python3.7/dist-packages (from requests->huggingface-hub>=0.4.0->sentence-transformers) (1.25.11)\n",
            "Requirement already satisfied: chardet<4,>=3.0.2 in /usr/local/lib/python3.7/dist-packages (from requests->huggingface-hub>=0.4.0->sentence-transformers) (3.0.4)\n",
            "Requirement already satisfied: idna<3,>=2.5 in /usr/local/lib/python3.7/dist-packages (from requests->huggingface-hub>=0.4.0->sentence-transformers) (2.10)\n",
            "Requirement already satisfied: threadpoolctl>=2.0.0 in /usr/local/lib/python3.7/dist-packages (from scikit-learn->sentence-transformers) (3.1.0)\n",
            "Requirement already satisfied: pillow!=8.3.*,>=5.3.0 in /usr/local/lib/python3.7/dist-packages (from torchvision->sentence-transformers) (7.1.2)\n",
            "Looking in indexes: https://pypi.org/simple, https://us-python.pkg.dev/colab-wheels/public/simple/\n",
            "Requirement already satisfied: datasets in /usr/local/lib/python3.7/dist-packages (2.7.0)\n",
            "Requirement already satisfied: tqdm>=4.62.1 in /usr/local/lib/python3.7/dist-packages (from datasets) (4.64.1)\n",
            "Requirement already satisfied: pandas in /usr/local/lib/python3.7/dist-packages (from datasets) (1.3.5)\n",
            "Requirement already satisfied: numpy>=1.17 in /usr/local/lib/python3.7/dist-packages (from datasets) (1.21.6)\n",
            "Requirement already satisfied: importlib-metadata in /usr/local/lib/python3.7/dist-packages (from datasets) (4.13.0)\n",
            "Requirement already satisfied: multiprocess in /usr/local/lib/python3.7/dist-packages (from datasets) (0.70.14)\n",
            "Requirement already satisfied: xxhash in /usr/local/lib/python3.7/dist-packages (from datasets) (3.1.0)\n",
            "Requirement already satisfied: requests>=2.19.0 in /usr/local/lib/python3.7/dist-packages (from datasets) (2.23.0)\n",
            "Requirement already satisfied: fsspec[http]>=2021.11.1 in /usr/local/lib/python3.7/dist-packages (from datasets) (2022.10.0)\n",
            "Requirement already satisfied: aiohttp in /usr/local/lib/python3.7/dist-packages (from datasets) (3.8.3)\n",
            "Requirement already satisfied: huggingface-hub<1.0.0,>=0.2.0 in /usr/local/lib/python3.7/dist-packages (from datasets) (0.11.0)\n",
            "Requirement already satisfied: pyyaml>=5.1 in /usr/local/lib/python3.7/dist-packages (from datasets) (6.0)\n",
            "Requirement already satisfied: pyarrow>=6.0.0 in /usr/local/lib/python3.7/dist-packages (from datasets) (6.0.1)\n",
            "Requirement already satisfied: packaging in /usr/local/lib/python3.7/dist-packages (from datasets) (21.3)\n",
            "Requirement already satisfied: responses<0.19 in /usr/local/lib/python3.7/dist-packages (from datasets) (0.18.0)\n",
            "Requirement already satisfied: dill<0.3.7 in /usr/local/lib/python3.7/dist-packages (from datasets) (0.3.6)\n",
            "Requirement already satisfied: typing-extensions>=3.7.4 in /usr/local/lib/python3.7/dist-packages (from aiohttp->datasets) (4.1.1)\n",
            "Requirement already satisfied: multidict<7.0,>=4.5 in /usr/local/lib/python3.7/dist-packages (from aiohttp->datasets) (6.0.2)\n",
            "Requirement already satisfied: async-timeout<5.0,>=4.0.0a3 in /usr/local/lib/python3.7/dist-packages (from aiohttp->datasets) (4.0.2)\n",
            "Requirement already satisfied: frozenlist>=1.1.1 in /usr/local/lib/python3.7/dist-packages (from aiohttp->datasets) (1.3.3)\n",
            "Requirement already satisfied: aiosignal>=1.1.2 in /usr/local/lib/python3.7/dist-packages (from aiohttp->datasets) (1.3.1)\n",
            "Requirement already satisfied: yarl<2.0,>=1.0 in /usr/local/lib/python3.7/dist-packages (from aiohttp->datasets) (1.8.1)\n",
            "Requirement already satisfied: attrs>=17.3.0 in /usr/local/lib/python3.7/dist-packages (from aiohttp->datasets) (22.1.0)\n",
            "Requirement already satisfied: asynctest==0.13.0 in /usr/local/lib/python3.7/dist-packages (from aiohttp->datasets) (0.13.0)\n",
            "Requirement already satisfied: charset-normalizer<3.0,>=2.0 in /usr/local/lib/python3.7/dist-packages (from aiohttp->datasets) (2.1.1)\n",
            "Requirement already satisfied: filelock in /usr/local/lib/python3.7/dist-packages (from huggingface-hub<1.0.0,>=0.2.0->datasets) (3.8.0)\n",
            "Requirement already satisfied: pyparsing!=3.0.5,>=2.0.2 in /usr/local/lib/python3.7/dist-packages (from packaging->datasets) (3.0.9)\n",
            "Requirement already satisfied: chardet<4,>=3.0.2 in /usr/local/lib/python3.7/dist-packages (from requests>=2.19.0->datasets) (3.0.4)\n",
            "Requirement already satisfied: urllib3!=1.25.0,!=1.25.1,<1.26,>=1.21.1 in /usr/local/lib/python3.7/dist-packages (from requests>=2.19.0->datasets) (1.25.11)\n",
            "Requirement already satisfied: certifi>=2017.4.17 in /usr/local/lib/python3.7/dist-packages (from requests>=2.19.0->datasets) (2022.9.24)\n",
            "Requirement already satisfied: idna<3,>=2.5 in /usr/local/lib/python3.7/dist-packages (from requests>=2.19.0->datasets) (2.10)\n",
            "Requirement already satisfied: zipp>=0.5 in /usr/local/lib/python3.7/dist-packages (from importlib-metadata->datasets) (3.10.0)\n",
            "Requirement already satisfied: python-dateutil>=2.7.3 in /usr/local/lib/python3.7/dist-packages (from pandas->datasets) (2.8.2)\n",
            "Requirement already satisfied: pytz>=2017.3 in /usr/local/lib/python3.7/dist-packages (from pandas->datasets) (2022.6)\n",
            "Requirement already satisfied: six>=1.5 in /usr/local/lib/python3.7/dist-packages (from python-dateutil>=2.7.3->pandas->datasets) (1.15.0)\n",
            "Looking in indexes: https://pypi.org/simple, https://us-python.pkg.dev/colab-wheels/public/simple/\n",
            "Requirement already satisfied: transformers==4.21.3 in /usr/local/lib/python3.7/dist-packages (4.21.3)\n",
            "Requirement already satisfied: numpy>=1.17 in /usr/local/lib/python3.7/dist-packages (from transformers==4.21.3) (1.21.6)\n",
            "Requirement already satisfied: tokenizers!=0.11.3,<0.13,>=0.11.1 in /usr/local/lib/python3.7/dist-packages (from transformers==4.21.3) (0.12.1)\n",
            "Requirement already satisfied: importlib-metadata in /usr/local/lib/python3.7/dist-packages (from transformers==4.21.3) (4.13.0)\n",
            "Requirement already satisfied: packaging>=20.0 in /usr/local/lib/python3.7/dist-packages (from transformers==4.21.3) (21.3)\n",
            "Requirement already satisfied: huggingface-hub<1.0,>=0.1.0 in /usr/local/lib/python3.7/dist-packages (from transformers==4.21.3) (0.11.0)\n",
            "Requirement already satisfied: tqdm>=4.27 in /usr/local/lib/python3.7/dist-packages (from transformers==4.21.3) (4.64.1)\n",
            "Requirement already satisfied: pyyaml>=5.1 in /usr/local/lib/python3.7/dist-packages (from transformers==4.21.3) (6.0)\n",
            "Requirement already satisfied: filelock in /usr/local/lib/python3.7/dist-packages (from transformers==4.21.3) (3.8.0)\n",
            "Requirement already satisfied: regex!=2019.12.17 in /usr/local/lib/python3.7/dist-packages (from transformers==4.21.3) (2022.6.2)\n",
            "Requirement already satisfied: requests in /usr/local/lib/python3.7/dist-packages (from transformers==4.21.3) (2.23.0)\n",
            "Requirement already satisfied: typing-extensions>=3.7.4.3 in /usr/local/lib/python3.7/dist-packages (from huggingface-hub<1.0,>=0.1.0->transformers==4.21.3) (4.1.1)\n",
            "Requirement already satisfied: pyparsing!=3.0.5,>=2.0.2 in /usr/local/lib/python3.7/dist-packages (from packaging>=20.0->transformers==4.21.3) (3.0.9)\n",
            "Requirement already satisfied: zipp>=0.5 in /usr/local/lib/python3.7/dist-packages (from importlib-metadata->transformers==4.21.3) (3.10.0)\n",
            "Requirement already satisfied: urllib3!=1.25.0,!=1.25.1,<1.26,>=1.21.1 in /usr/local/lib/python3.7/dist-packages (from requests->transformers==4.21.3) (1.25.11)\n",
            "Requirement already satisfied: certifi>=2017.4.17 in /usr/local/lib/python3.7/dist-packages (from requests->transformers==4.21.3) (2022.9.24)\n",
            "Requirement already satisfied: idna<3,>=2.5 in /usr/local/lib/python3.7/dist-packages (from requests->transformers==4.21.3) (2.10)\n",
            "Requirement already satisfied: chardet<4,>=3.0.2 in /usr/local/lib/python3.7/dist-packages (from requests->transformers==4.21.3) (3.0.4)\n",
            "Looking in indexes: https://pypi.org/simple, https://us-python.pkg.dev/colab-wheels/public/simple/\n",
            "Requirement already satisfied: bert-extractive-summarizer in /usr/local/lib/python3.7/dist-packages (0.10.1)\n",
            "Requirement already satisfied: scikit-learn in /usr/local/lib/python3.7/dist-packages (from bert-extractive-summarizer) (1.0.2)\n",
            "Requirement already satisfied: spacy in /usr/local/lib/python3.7/dist-packages (from bert-extractive-summarizer) (3.4.2)\n",
            "Requirement already satisfied: transformers in /usr/local/lib/python3.7/dist-packages (from bert-extractive-summarizer) (4.21.3)\n",
            "Requirement already satisfied: threadpoolctl>=2.0.0 in /usr/local/lib/python3.7/dist-packages (from scikit-learn->bert-extractive-summarizer) (3.1.0)\n",
            "Requirement already satisfied: joblib>=0.11 in /usr/local/lib/python3.7/dist-packages (from scikit-learn->bert-extractive-summarizer) (1.2.0)\n",
            "Requirement already satisfied: scipy>=1.1.0 in /usr/local/lib/python3.7/dist-packages (from scikit-learn->bert-extractive-summarizer) (1.7.3)\n",
            "Requirement already satisfied: numpy>=1.14.6 in /usr/local/lib/python3.7/dist-packages (from scikit-learn->bert-extractive-summarizer) (1.21.6)\n",
            "Requirement already satisfied: tqdm<5.0.0,>=4.38.0 in /usr/local/lib/python3.7/dist-packages (from spacy->bert-extractive-summarizer) (4.64.1)\n",
            "Requirement already satisfied: typer<0.5.0,>=0.3.0 in /usr/local/lib/python3.7/dist-packages (from spacy->bert-extractive-summarizer) (0.4.2)\n",
            "Requirement already satisfied: requests<3.0.0,>=2.13.0 in /usr/local/lib/python3.7/dist-packages (from spacy->bert-extractive-summarizer) (2.23.0)\n",
            "Requirement already satisfied: spacy-legacy<3.1.0,>=3.0.10 in /usr/local/lib/python3.7/dist-packages (from spacy->bert-extractive-summarizer) (3.0.10)\n",
            "Requirement already satisfied: jinja2 in /usr/local/lib/python3.7/dist-packages (from spacy->bert-extractive-summarizer) (2.11.3)\n",
            "Requirement already satisfied: catalogue<2.1.0,>=2.0.6 in /usr/local/lib/python3.7/dist-packages (from spacy->bert-extractive-summarizer) (2.0.8)\n",
            "Requirement already satisfied: wasabi<1.1.0,>=0.9.1 in /usr/local/lib/python3.7/dist-packages (from spacy->bert-extractive-summarizer) (0.10.1)\n",
            "Requirement already satisfied: pathy>=0.3.5 in /usr/local/lib/python3.7/dist-packages (from spacy->bert-extractive-summarizer) (0.6.2)\n",
            "Requirement already satisfied: spacy-loggers<2.0.0,>=1.0.0 in /usr/local/lib/python3.7/dist-packages (from spacy->bert-extractive-summarizer) (1.0.3)\n",
            "Requirement already satisfied: murmurhash<1.1.0,>=0.28.0 in /usr/local/lib/python3.7/dist-packages (from spacy->bert-extractive-summarizer) (1.0.9)\n",
            "Requirement already satisfied: setuptools in /usr/local/lib/python3.7/dist-packages (from spacy->bert-extractive-summarizer) (57.4.0)\n",
            "Requirement already satisfied: langcodes<4.0.0,>=3.2.0 in /usr/local/lib/python3.7/dist-packages (from spacy->bert-extractive-summarizer) (3.3.0)\n",
            "Requirement already satisfied: preshed<3.1.0,>=3.0.2 in /usr/local/lib/python3.7/dist-packages (from spacy->bert-extractive-summarizer) (3.0.8)\n",
            "Requirement already satisfied: thinc<8.2.0,>=8.1.0 in /usr/local/lib/python3.7/dist-packages (from spacy->bert-extractive-summarizer) (8.1.5)\n",
            "Requirement already satisfied: srsly<3.0.0,>=2.4.3 in /usr/local/lib/python3.7/dist-packages (from spacy->bert-extractive-summarizer) (2.4.5)\n",
            "Requirement already satisfied: cymem<2.1.0,>=2.0.2 in /usr/local/lib/python3.7/dist-packages (from spacy->bert-extractive-summarizer) (2.0.7)\n",
            "Requirement already satisfied: pydantic!=1.8,!=1.8.1,<1.11.0,>=1.7.4 in /usr/local/lib/python3.7/dist-packages (from spacy->bert-extractive-summarizer) (1.10.2)\n",
            "Requirement already satisfied: typing-extensions<4.2.0,>=3.7.4 in /usr/local/lib/python3.7/dist-packages (from spacy->bert-extractive-summarizer) (4.1.1)\n",
            "Requirement already satisfied: packaging>=20.0 in /usr/local/lib/python3.7/dist-packages (from spacy->bert-extractive-summarizer) (21.3)\n",
            "Requirement already satisfied: zipp>=0.5 in /usr/local/lib/python3.7/dist-packages (from catalogue<2.1.0,>=2.0.6->spacy->bert-extractive-summarizer) (3.10.0)\n",
            "Requirement already satisfied: pyparsing!=3.0.5,>=2.0.2 in /usr/local/lib/python3.7/dist-packages (from packaging>=20.0->spacy->bert-extractive-summarizer) (3.0.9)\n",
            "Requirement already satisfied: smart-open<6.0.0,>=5.2.1 in /usr/local/lib/python3.7/dist-packages (from pathy>=0.3.5->spacy->bert-extractive-summarizer) (5.2.1)\n",
            "Requirement already satisfied: idna<3,>=2.5 in /usr/local/lib/python3.7/dist-packages (from requests<3.0.0,>=2.13.0->spacy->bert-extractive-summarizer) (2.10)\n",
            "Requirement already satisfied: urllib3!=1.25.0,!=1.25.1,<1.26,>=1.21.1 in /usr/local/lib/python3.7/dist-packages (from requests<3.0.0,>=2.13.0->spacy->bert-extractive-summarizer) (1.25.11)\n",
            "Requirement already satisfied: chardet<4,>=3.0.2 in /usr/local/lib/python3.7/dist-packages (from requests<3.0.0,>=2.13.0->spacy->bert-extractive-summarizer) (3.0.4)\n",
            "Requirement already satisfied: certifi>=2017.4.17 in /usr/local/lib/python3.7/dist-packages (from requests<3.0.0,>=2.13.0->spacy->bert-extractive-summarizer) (2022.9.24)\n",
            "Requirement already satisfied: confection<1.0.0,>=0.0.1 in /usr/local/lib/python3.7/dist-packages (from thinc<8.2.0,>=8.1.0->spacy->bert-extractive-summarizer) (0.0.3)\n",
            "Requirement already satisfied: blis<0.8.0,>=0.7.8 in /usr/local/lib/python3.7/dist-packages (from thinc<8.2.0,>=8.1.0->spacy->bert-extractive-summarizer) (0.7.9)\n",
            "Requirement already satisfied: click<9.0.0,>=7.1.1 in /usr/local/lib/python3.7/dist-packages (from typer<0.5.0,>=0.3.0->spacy->bert-extractive-summarizer) (7.1.2)\n",
            "Requirement already satisfied: MarkupSafe>=0.23 in /usr/local/lib/python3.7/dist-packages (from jinja2->spacy->bert-extractive-summarizer) (2.0.1)\n",
            "Requirement already satisfied: regex!=2019.12.17 in /usr/local/lib/python3.7/dist-packages (from transformers->bert-extractive-summarizer) (2022.6.2)\n",
            "Requirement already satisfied: importlib-metadata in /usr/local/lib/python3.7/dist-packages (from transformers->bert-extractive-summarizer) (4.13.0)\n",
            "Requirement already satisfied: pyyaml>=5.1 in /usr/local/lib/python3.7/dist-packages (from transformers->bert-extractive-summarizer) (6.0)\n",
            "Requirement already satisfied: huggingface-hub<1.0,>=0.1.0 in /usr/local/lib/python3.7/dist-packages (from transformers->bert-extractive-summarizer) (0.11.0)\n",
            "Requirement already satisfied: tokenizers!=0.11.3,<0.13,>=0.11.1 in /usr/local/lib/python3.7/dist-packages (from transformers->bert-extractive-summarizer) (0.12.1)\n",
            "Requirement already satisfied: filelock in /usr/local/lib/python3.7/dist-packages (from transformers->bert-extractive-summarizer) (3.8.0)\n"
          ]
        }
      ],
      "source": [
        "!pip install -U sentence-transformers\n",
        "!pip install datasets\n",
        "!pip install transformers==4.21.3 \n",
        "!pip install bert-extractive-summarizer"
      ]
    },
    {
      "cell_type": "code",
      "execution_count": null,
      "metadata": {
        "id": "3DsUJ-nEatnE"
      },
      "outputs": [],
      "source": []
    },
    {
      "cell_type": "code",
      "execution_count": null,
      "metadata": {
        "colab": {
          "base_uri": "https://localhost:8080/",
          "height": 105,
          "referenced_widgets": [
            "371ecabf36a4455aac9864e689bd164d",
            "b2b14b250a964cdf861ddddb884136ed",
            "f00131e0edaa4d30a44b0aba46307690",
            "461c8d61e0b54e77a3b3e86d7d0222f5",
            "b4e15753e0d14d1c9e1ebb0e3f9362aa",
            "3fa5bb6a5ebf40d48cace3badcb9c7af",
            "3fc30faa263a42eba9e50b7f6bfaf335",
            "08c632cee4d84a5bb3bf8fa034b31045",
            "5620a29752744efdb0fcac7bb83eadb9",
            "21a8bd70ce1a4f95b3c0058db4599c15",
            "e5ff4cc8d09c41399d91070d76d928d0"
          ]
        },
        "id": "OOYRq7RjaxhX",
        "outputId": "6719f697-dce4-49ce-8ccf-37583ca28aec"
      },
      "outputs": [
        {
          "name": "stderr",
          "output_type": "stream",
          "text": [
            "WARNING:datasets.builder:Using custom data configuration alexfabbri--answersumm-5824ede3901b0cfa\n",
            "WARNING:datasets.builder:Found cached dataset json (/root/.cache/huggingface/datasets/alexfabbri___json/alexfabbri--answersumm-5824ede3901b0cfa/0.0.0/e6070c77f18f01a5ad4551a8b7edfba20b8438b7cad4d94e6ad9378022ce4aab)\n"
          ]
        },
        {
          "data": {
            "application/vnd.jupyter.widget-view+json": {
              "model_id": "371ecabf36a4455aac9864e689bd164d",
              "version_major": 2,
              "version_minor": 0
            },
            "text/plain": [
              "  0%|          | 0/3 [00:00<?, ?it/s]"
            ]
          },
          "metadata": {},
          "output_type": "display_data"
        }
      ],
      "source": [
        "import torch\n",
        "from datasets import load_dataset\n",
        "answersumm = load_dataset(\"alexfabbri/answersumm\")"
      ]
    },
    {
      "cell_type": "code",
      "execution_count": null,
      "metadata": {
        "colab": {
          "base_uri": "https://localhost:8080/"
        },
        "id": "8W3QLD0Aa0fA",
        "outputId": "0749e0f6-75be-4186-e3fe-db921885b5e3"
      },
      "outputs": [
        {
          "name": "stdout",
          "output_type": "stream",
          "text": [
            "cuda:0\n"
          ]
        }
      ],
      "source": [
        "device = torch.device(\"cuda:0\" if torch.cuda.is_available() else \"cpu\")\n",
        "print(device)"
      ]
    },
    {
      "cell_type": "code",
      "execution_count": null,
      "metadata": {
        "colab": {
          "base_uri": "https://localhost:8080/"
        },
        "id": "8XtRV6xha4qt",
        "outputId": "fb5813ee-3787-499b-e49f-717110cfdb2b"
      },
      "outputs": [
        {
          "name": "stderr",
          "output_type": "stream",
          "text": [
            "Some weights of the model checkpoint at bert-large-uncased were not used when initializing BertModel: ['cls.predictions.decoder.weight', 'cls.seq_relationship.bias', 'cls.predictions.transform.LayerNorm.weight', 'cls.predictions.transform.dense.weight', 'cls.predictions.transform.LayerNorm.bias', 'cls.seq_relationship.weight', 'cls.predictions.bias', 'cls.predictions.transform.dense.bias']\n",
            "- This IS expected if you are initializing BertModel from the checkpoint of a model trained on another task or with another architecture (e.g. initializing a BertForSequenceClassification model from a BertForPreTraining model).\n",
            "- This IS NOT expected if you are initializing BertModel from the checkpoint of a model that you expect to be exactly identical (initializing a BertForSequenceClassification model from a BertForSequenceClassification model).\n"
          ]
        }
      ],
      "source": [
        "from summarizer import Summarizer\n",
        "body = \"\"\"\n",
        "The tower is 324 metres (1,063 ft) tall, about the same height as an 81-storey building, and the tallest structure in Paris. Its base is square, measuring 125 metres (410 ft) on each side. During its construction, the Eiffel Tower surpassed the Washington Monument to become the tallest man-made structure in the world, a title it held for 41 years until the Chrysler Building in New York City was finished in 1930. It was the first structure to reach a height of 300 metres. Due to the addition of a broadcasting aerial at the top of the tower in 1957, it is now taller than the Chrysler Building by 5.2 metres (17 ft). Excluding transmitters, the Eiffel Tower is the second tallest free-standing structure in France after the Millau Viaduct.\n",
        "\"\"\"\n",
        "extractive_summary_model = Summarizer()"
      ]
    },
    {
      "cell_type": "markdown",
      "metadata": {
        "id": "Mv5vQLKZbCgY"
      },
      "source": [
        "# PreProcessing"
      ]
    },
    {
      "cell_type": "code",
      "execution_count": null,
      "metadata": {
        "id": "tk7AUjDNbEuT"
      },
      "outputs": [],
      "source": [
        "MAX_COUNT = 3000"
      ]
    },
    {
      "cell_type": "code",
      "execution_count": null,
      "metadata": {
        "colab": {
          "base_uri": "https://localhost:8080/"
        },
        "id": "6bwvpC58bFFP",
        "outputId": "b407906e-f9da-4bb0-c71b-6a42ab958aab"
      },
      "outputs": [
        {
          "data": {
            "text/plain": [
              "5"
            ]
          },
          "execution_count": 191,
          "metadata": {},
          "output_type": "execute_result"
        }
      ],
      "source": [
        "# Extract the questions\n",
        "questions = []\n",
        "for i in range(0,MAX_COUNT):\n",
        "  question = answersumm[\"test\"][i][\"question\"][\"title\"].lower()\n",
        "  questions.append(question)\n",
        "\n",
        "labels = []\n",
        "answers = []\n",
        "for i in range(0,MAX_COUNT):\n",
        "  answer_list = []\n",
        "  label_list = []\n",
        "  for answer in answersumm[\"test\"][i][\"answers\"]:\n",
        "    answer_sentences = []\n",
        "    label_sentences = []\n",
        "    for sentence in answer['sents']:\n",
        "      answer_sentences.append(sentence[\"text\"].lower())\n",
        "      label_sentences.append(sentence[\"label\"][0])\n",
        "    answer_list.append(answer_sentences)\n",
        "    label_list.append(label_sentences)\n",
        "  answers.append(answer_list)\n",
        "  labels.append(label_list)\n",
        "len(answers[0])"
      ]
    },
    {
      "cell_type": "code",
      "execution_count": null,
      "metadata": {
        "id": "6TztX5UBbLVA"
      },
      "outputs": [],
      "source": [
        "input = []\n",
        "output_labels = []\n",
        "all_summaries = []\n",
        "for ind,answer_val in enumerate(answers):\n",
        "  final_summary = \" \"\n",
        "  max_score = -1\n",
        "  for val,answer in enumerate(answer_val):\n",
        "    final_sentence = \"<sep> \"\n",
        "    for sentence in answer:\n",
        "      final_sentence = final_sentence +  sentence + \" <sep> \"\n",
        "    score = int(answersumm[\"test\"][ind][\"answers\"][val][\"answer_details\"][\"score\"])\n",
        "    \n",
        "    max_score = max(score,max_score)\n",
        "\n",
        "    final_summary = final_summary + extractive_summary_model(final_sentence, ratio=0.6) + \" \"\n",
        "  all_summaries.append(final_summary)"
      ]
    },
    {
      "cell_type": "code",
      "execution_count": null,
      "metadata": {
        "colab": {
          "base_uri": "https://localhost:8080/",
          "height": 160
        },
        "id": "WuAd4tMWbihD",
        "outputId": "53492307-1e28-4b9b-8a6e-20aeb4b01abd"
      },
      "outputs": [
        {
          "data": {
            "application/vnd.google.colaboratory.intrinsic+json": {
              "type": "string"
            },
            "text/plain": [
              "' <sep> if your date of volunteering was given as nov-2016 then i would assume that you volunteered for the whole month. <sep> that would greatly reduce your chances of being hired. <sep> if you were hired, and part of the reason for taking you and not someone else was the volunteering, then your job would be in extreme danger if this was found out. <sep> and seriously, if i read \"volunteering for one day\" i would have questions about your state of mind. <sep> specifying that you volunteered for one event on one day that has no real connection to your job does not really add much to your resume. <sep> even worse, as mentioned in the other answers, lying about the duration or making it unclear would be a very bad move. <sep> can i list one day of volunteer work as “month-year”? <sep> what you\\'re suggesting isn\\'t just simplifying your resume or cherry-picking what experience to list. <sep> unless specified, listing anything on your resume as \"month - year\" will imply that you spent the majority of that month doing something. <sep> if you were volunteering somewhere for a week you\\'d either list it as \"january - year // <sep> taught week-long training course for children\" or, less commonly, \"w3 - year // <sep> taught children\\'s training course\". <sep> but doing that if you left after less than a year or two would come across as misrepresenting your experience. <sep> lying on your resume is such an immense breach of trust that if it was discovered in the interview process you\\'d be immediately dropped from consideration. <sep> if you actually lied about it during an interview, you\\'ll suddenly have plenty of time to write a new resume. <sep> you could simply indicate the action you took voluntier avoiding that issue. <sep> is it a good idea to mention the date of that one day volunteering for a whole month like \"nov-2016\", although it was actually only one day? <sep> there\\'s absolutely no need to mention any dates in volunteer activities. <sep> normally, you\\'d list your volunteer work under a heading of \"volunteer work\" or such. <sep> just list the activities with no dates attached. '"
            ]
          },
          "execution_count": 194,
          "metadata": {},
          "output_type": "execute_result"
        }
      ],
      "source": [
        "all_summaries[0]"
      ]
    },
    {
      "cell_type": "code",
      "execution_count": null,
      "metadata": {
        "colab": {
          "base_uri": "https://localhost:8080/"
        },
        "id": "XxiN0DYDcOOI",
        "outputId": "c1137d4f-ebdf-49d0-c198-b1df1b9f4e95"
      },
      "outputs": [
        {
          "name": "stdout",
          "output_type": "stream",
          "text": [
            "[' if your date of volunteering was given as nov-2016 then i would assume that you volunteered for the whole month. ', ' that would greatly reduce your chances of being hired. ', ' if you were hired, and part of the reason for taking you and not someone else was the volunteering, then your job would be in extreme danger if this was found out. ', ' and seriously, if i read \"volunteering for one day\" i would have questions about your state of mind. ', ' specifying that you volunteered for one event on one day that has no real connection to your job does not really add much to your resume. ', ' even worse, as mentioned in the other answers, lying about the duration or making it unclear would be a very bad move. ', ' can i list one day of volunteer work as “month-year”? ', \" what you're suggesting isn't just simplifying your resume or cherry-picking what experience to list. \", ' unless specified, listing anything on your resume as \"month - year\" will imply that you spent the majority of that month doing something. ', ' if you were volunteering somewhere for a week you\\'d either list it as \"january - year // ', ' taught week-long training course for children\" or, less commonly, \"w3 - year // ', ' taught children\\'s training course\". ', ' but doing that if you left after less than a year or two would come across as misrepresenting your experience. ', \" lying on your resume is such an immense breach of trust that if it was discovered in the interview process you'd be immediately dropped from consideration. \", \" if you actually lied about it during an interview, you'll suddenly have plenty of time to write a new resume. \", ' you could simply indicate the action you took voluntier avoiding that issue. ', ' is it a good idea to mention the date of that one day volunteering for a whole month like \"nov-2016\", although it was actually only one day? ', \" there's absolutely no need to mention any dates in volunteer activities. \", ' normally, you\\'d list your volunteer work under a heading of \"volunteer work\" or such. ', ' just list the activities with no dates attached. ']\n",
            "[' check her correspondence, and cut-and-paste from it. ', ' create yourself a library of templates from her correspondence. ', \" if she asks you to write a specific letter to a party and you can't think of a template or an original letter that you can use, ask her if she can think of an original letter she wrote that you can use as a template. \", \" if you are doing cut-and-paste, do it but don't admit to it :) \", ' how you make the sausage and from what ingredients is between you and the wall. ', ' make a draft letter and ask for her opinion. ', ' you are not in her mind, so you have no idea how to proceed yet. ', ' start by reading some of her writings to get inspiration, then write a first draft. ', ' then you can show her your draft and ask for her opinion. ', ' to imitate her writing style read as much of her writing as you can. ', ' look for common turns of phrase or idioms that she uses, look for a pattern in first and last sentences of correspondence (problem statement, well wishing, summing up, etc), look at the number and length of paragraphs used, does she commonly use passive voice (starting the sentence with the object rather than the subject). ', ' someone copying my style for emails would see a common pattern of statement of problem - steps taken - request for action. ', ' break things down as with any challenging task, breaking things down into manageable pieces makes sense. ', ' it sounds as though your boss puts some effort into maintaining good relationships with her readers. ', ' look at the following aspects of her letters: ', ' how they start and finish - the opening and closing of letters ', ' set the mood, reinforcing the relationship between writer and reader. ', ' tone ', ' - how is the language used? ', ' how do sentences typically start (and are parentheses used a lot)? ', ' use of contractions - e.g. or \"for example\"? ', ' aim - letters are written for a reason. ', ' how does she get what she wants out of the communication? ', ' read lots and lots of stuff she has written. ', ' then try writing something up and ask her to critique it. ']\n",
            "[' if you have asked this person to stop this behavior, in a documented way ( email ) begin doing the following while making sure your supervisor is in the loop. ', ' ( you should usually give your supervisor the chance to address an issue before moving on to hr ) document each occurrence with pictures and dates/times. ', ' this person sounds like the type of person who needs to be either reprimanded so his behavior changes, or fired. ', \" pranks at work are one thing, but messing with another person's car is not acceptable. \", ' explain that the atmosphere is making you uncomfortable and that people have interfered with your vehicle. ', ' insist that the behaviour has to stop. ', ' advise your boss that you will be doing this (again, in writing) or, if you are uncomfortable giving the bill to the prankster, give it to your boss. ', ' this approach may seem harsh or extreme, but cars are expensive. ', ' a simple \"prank\" could cause thousands of pounds/dollars/bolivars of damage, or potentially have an impact on the safety and roadworthiness of the vehicle. ', ' tell your boss that this \"picking on\" is affecting your work and let him deal with it. ', ' if people are messing around in the office then i would document everything, and think about contacting hr. ', \" if they're messing around with your car i would see hr immediately. \", ' if they are messing with your property, especially if they are making your car potentially unsafe to drive, you need to go to a manager. ', \" don't tell them you're going to speak to a manager. \"]\n",
            "[' you have two choices: do it, in a nondemeaning way. ', \" if you have a choice of music you can choose something you're ok with. \", ' someone may \"tut\" that you didn\\'t make a fool of yourself, but you participated. ', \" either may cause someone to feel you're not a team player. \", ' these videos are rarely designed to be demeaning. ', \" i've done my share, and they can be pleasant. \", \" i'm not going to put on a crazy wig or dance on my desk. \", ' things like this matter more than you would think, and you might actually have fun. ', ' management remembers who was and was not a team player. ', \" i'm going to answer in a somewhat different direction. \", \" if you don't want to do this, assert confidently that you are not going to participate. \", ' this is not about \"being a teamplayer\" at all. ', ' forcing people to do things that make them uncomfortable \"because it\\'ll be fun\" is not okay. ', \" (and while you're searching for a new job, calling in sick is probably the best way to get out of this specific event) \", \" *this might be meant as a cute marketing stunt, in which case there's some connection to the goal of the company, but still no reason at all to force anyone into participating. \", \" if you can't avoid it, then someone has to be film-crew, animal-wrangler, key-grip etc. \", \" be creative and think up some very important reason why you can't be on the action side of the camera. \", \" i'd take a sick day - hey, the very thought of participating in the video makes me sick. \", \" or i'd take a personal day - hey, my pet rock is feeling neglected :) \", ' ', \" i'd suggest a different approach to the situation. \", ' such videos also need much more than \"actors in them\". to do other stuff that i can\\'t think of right now ', ' there\\'s a lot of stuff that needs to be done so that such a video is a \"successfull\" one. ', ' just suggest it to your manager or whoever is responsible for it. ', ' as a side-note / personal comment: i too think such videos are kind of a waste of time and frankly quite pathetic. ', ' i\\'m kinda surprised that no one mentioned this yet, but compelling people to participate in any \"holiday celebration\" ', ' is assuming that it is a holiday for everyone. ', ' basically not everyone celebrates these holidays and forcing people to participate, in what could be seen as religious holidays, could be an hr nightmare. ']\n",
            "[' i had terrible withdrawal from sertraline. ', \" it's not their business \", \" be prepared to take a sick day or two if you're not feeling right. \", ' even with your psychiatrist dropping you down slowly, you can still get withdrawal, be very aware of the side effects and if you feel them coming on, address them. ', ' the bathroom is always a good choice, or go home if they get too bad discuss all of this with your psychiatrist if hr or your boss takes notice of any of this, get a note from your psychiatrist and bring that to hr. ', ' if the side effects are going to be intense (they sound pretty serious), then maybe you should consider going on medical leave while you sort yourself out (discuss this with your psychiatrist). ', ' this situation is tricky because you would be voluntarily disclosing medical information. ', ' however, if you suddenly snap and yell at someone in the office it might not hurt for your boss to be aware that you don\\'t \"mean it\", and might need some time alone to compose yourself, or to head home for the remainder of the day. ', ' never tell anyone except your closest family about changes in your medication. ', ' if you tell our boss or co-workers that you are going off sertraline, they are going to look up the drug to find out what to expect. ', ' confirmation bias will set in and at least some of them will believe you are presenting these symptoms, even as you actually become more forgiving, calm, focused, alert, awake, and motivated. ', ' a lot will depend upon your relationship with the boss and the size of the company and its hr department. ', \" it may be helpful to tell those with whom you have a lot of interaction (including your boss) that you are going to be changing some medications and that you don't expect any problems, but there's a possibility of adverse reactions that might require using a different treatment. \", ' what is important is that they understand that if they notice adverse changes in your mood or other such problems and they let you know, you will be able to pass that information along to your doctor so he can try something else. ', \" you don't say where you are based, but if it's somewhere with disability discrimination legislation then by not disclosing your mental health issues you have no protection under the law. \", ' i would recommend always letting hr know about health issues, and usually warn my boss and colleagues about medication changes if it might affect my behaviour at work. ', \" let's assume next week you act angry, irritable, or confused. \", ' all not things that are particularly liked in the workplace. ', ' ask your doctor whether you would know if that happens (and if it is safe to restore the original dose if that happens). ']\n",
            "[\" the hiring manager will come in the next morning, have 3 new applications and won't care enough to look up the time-stamp when exactly they came in. \", ' if you are in current employment you might have no opportunity to apply for other roles during the working day, so applying for jobs at night is pretty much what most people have to do. ', ' for companies who perceive this as negative, they would have to make assumptions as to why you applied late at night, and if they do that ', ' then you should ask yourself do you really want to work for them? ', ' the biggest factor in terms of when to apply for a role should be making sure you apply for the role as soon as possible. ', ' there are at least 10 reasons that i can imagine for why you would apply late at night, and none of them would be of any interest whatsoever to me as an employer. ', \" i'd hazard a guess that the majority of the employers doesn't even look beyond the date portion of the timestamp, at all. \", ' few people, if any, look at the timestamp of an application. ', ' even if i did i would simply assume that you were employing a tactic to submit as late as possible to be the first application i saw when i got in, so if anything i would think you were either clever or using every available moment to job hunt. ', ' generally i agree with what agent l and jonathon cowley-thom have said. ', ' given that so many hiring managers are inundated with applications nowadays ', \" , i doubt they'd have the energy to consider the time you applied. \", ' depending on what kind of electronic application system the employer is using, they may not even be able to see the time that you applied. ', ' in general i think it would take a lot for a hiring manager to consider that. ', ' while some are posted at various times throughout the day, most are posted at midnight when their system updates. ', ' the system is automated and my resume/transcripts/certifications are all uploaded, so i have applying down to a matter of minutes. ']\n",
            "[' is there a way i can get they to change the ringtone, without escalating too much? ', ' you have talked to your coworker and he is disagreeing. ', \" you have also established that your other coworkers don't want to get involved. \", ' you could call his phone while a manager is within hearing distance. ', ' but your colleagues are right, escalating things might cause more problems without really solving this one. ', \" unless he's getting calls every half hour, i'd ignore it. \", ' over-reacting and escalating the problem can also create a hostile workplace. ', ' making his phone ring while the boss is nearby is a cute idea, although it may not garner the desired response (ie: changing his ringtone.) ', ' his boss may not care enough to say anything, or he might just apologize quietly and not do anything else. ', ' it could also backfire on you if your coworker can trace the incoming call back to you, so tread carefully. ', ' it does not contain actual cursing, but has tons of obvious sexual innuendo. ', ' if a human being were to speak the lyrics to another human being in the office, would it reasonably be considered sexual harassment? ', \" just tell them you're trying to gauge what is or is not appropriate around the office. \", ' that could help to inform you on what should be done next as well as ', ' how likely you are to get support from people outside your department. ', ' filing a (politely worded) complaint with hr is not necessarily over-reacting. ', \" personally, if i were in your shoes, i'd probably talk to my manager about trying to set up a policy to require cell phones to be set to vibrate or silent mode while at work. \", ' or, if that policy already exists, about enforcing it more strictly. ', \" regardless of whether the ringtone is a song with nsfw lyrics, it's disruptive to have other people's phones ringing audibly in the office. \", ' avoiding naming names would help to limit escalation while still hopefully providing enough incentive for your manager to get this problem shut down. ', ' not progressing further than asking them to change their ring-tone is correct, and your colleagues are correct about that approach. ', \" you just can't always have an environment 100% free of anything you don't like, this really is a minor issue. \", ' few times my colleague used very annoying (though not offensive at all) ringtones. ', \" if you absolutely can't tolerate this then obviously talk to your manager. \", ' other coworkers agree that this ringtone is not a good one, but that i should not press further. ', ' okay, so your coworkers do not support further action in terms of persuading the colleague to change the ringtone. ']\n",
            "[' short answer, yes long answer, yes, of course! ', ' basically, this is going to impact on your interview either way. ', ' explain it ', \" and you're the risk-taker who might end up on extended sick leave from a silly accident. \", ' however, the latter is certainly preferable, and might show that you are a fun person to work with. ', \" it would be negative if you didn't mention it at all, because that leaves the interviewer to assume the worst - that you were in a fight. \", ' by addressing it at the first meet, it would also be an icebreaker - and a way for them to ask you about what you do in your spare time outside of work, and establish a more casual atmosphere - which is usually great in ', \" job interviews(it shows that you're a human!) \", ' they are going to be curious and will avoid asking as it could be personal. ', ' address it quickly and matter-of-factly. ', ' even if your injury comes up again later in the interview, just smile and steer the conversation back to the interview. ', ' my wife had once an interview in a very formal place. ', ' she went to the interview in jeans, t-shirt and trainers. ', ' when she got into the interview room there was some silence - more surprised than anythng else, as everyone knew she normally would be dressed conservatively. ', ' so just be natural, smile and go ahead be glad not to be this guy whose friends put a lock around his neck before his interview ', ' (i cannot find the original picture, the one above is from another prank ) ', ' ', \" i'm surprised the five answers here so far all advocate, rather assuredly, that you should explain your injury first thing. \", \" spending that time discussing your injury wouldn't even cross their minds. \", ' is that really the most important thing for them to be thinking about? ', \" of course, if you really need the job and opportunities aren't looking great, yes, you can cover your bases by explaining your injury. \", ' but keep this in mind: not only would an interviewer who is suspicious enough to think you got into a fight be suspicious enough to think you are making up an excuse, but focusing on your injury first thing shows a lack of confidence. ', ' yes- taking responsibility is a rare trait in the workplace! ', ' my grandpa always said a day without learning is a sad day, indeed. ', ' turning around the normal q of \"what was your hardest experience\"& venturing into trading war-stories, creates more human rapport ', ' (repoire is the sales-lingo typo) & memorability. ', ' you have memorability all-ready nailed down! ', ' jobs, like many things in life, are #s games. ']\n",
            "[\" do you have any old resume's around from last time \", ' you were job hunting? 2) ', ' any job boards you might have used in the past? ', \" even if you can't remember your account info and can't reset your password you may still be able to view the info. \", ' you got paid back then ', ' so do you have any payroll information still around? ', ' for some of my oldest jobs on my resume ', ' i just list the years without even a month for start and end date. ', \" at some point you're going to get a job offer (with whatever you put on your resume) because statistically, it's bound to happen. \", ' and and some point, one of those jobs is going to do a (drumroll please) ... ', ' background check when that day comes, you need to have that information, period. ', \" they will pay a company to look into your job history to make sure you're not completely full of crap. \", ' the bottom line is that you need to find that information somehow. ', ' call the hr department of every company you worked for and enlist their help. ', \" if you're nice and friendly, you probably won't get too much resistance. \", \" it might be a hassle, but it's worth the time you spend to do that. \", ' you might also look at old bank statements, and even better at old tax returns. ', ' and you can always ask hr in an old company. ', \" there are jobs where i don't remember the month \", ' but i do remember the year. ', \" i also keep old copies of resumes to remind myself where i was and update my resume continuously to include what new things i've learned, etc. \", ' surely you must have an old resume hiding somewhere, and sometimes if you got some milestone award from a job, that might register some memories for you to pin down a year. ', \" most people, if they bothered to read your resume and are interested in you, don't bring this up. \", ' 1) ', ' exact dates are usually not important. ', \" it doesn't usually matter if you started on june 1st or june 21st. \", ' personally, i only list month and year on my resume. ', \" if you can at least remember the season you worked (summer, fall, winter, spring), then you can pick a month from there and it'll probably be correct, or at least close enough. \", ' if you have trouble remembering this, my suggestion would be to try to remember what the weather was like or what you wore during the first week, and that should give you at least some indication. ', ' 3) ', ' always remember: honesty is the best policy. ', ' if you are missing information, then just say you are missing information, because you forgot it or whatever. ']\n",
            "[\" unless you're applying for a job as a comedian (in which case think of a better joke). \", ' for any serious job, you stick with conventional style and let your accomplishments do the rest. ', \" you can't build a context in a resume, nor do you know your audience. \", ' it may work once or twice, but that will be the exception, not the rule. ', ' your resume is a formal document, just the fact of trying to use humor in it will be seen as unprofessional by some. ', \" you don't know who will see your resume, and you'd better try to avoid being rejected immediately for such a small addition. \", ' if your resume is \"terrible\" as you wrote in a comment, humor is not the way you should solve the problem. ', ' be sure to keep your resume short and focused on yourself and your work experience. ', ' i would have to say no do not do it. ', ' you may find it funny ', ' but how can you guarantee your viewer will? ', \" if they don't find it funny, they'll bin it without a second thought. \", \" don't measure your skills like that. \", \" right now you're giving off the vibe that you're not as good at multitasking as i would like you to be. \", ' imagine your employer humorously says ', ' \"our job offer is ranging from $0.5555555 - $50.5555555 per day depending on your experience\" if you want to be looked as a professional. ', ' first impression is very important. ']\n"
          ]
        }
      ],
      "source": [
        "for summary in all_summaries:\n",
        "  sentence_list = summary.split(\"<sep>\")\n",
        "  sentence_list = sentence_list[1:]\n",
        "  print(sentence_list)"
      ]
    },
    {
      "cell_type": "code",
      "execution_count": null,
      "metadata": {
        "colab": {
          "base_uri": "https://localhost:8080/"
        },
        "id": "XJyg2LjBfUU2",
        "outputId": "73b964f9-ab34-4dcd-98d7-2a962ad38d0d"
      },
      "outputs": [
        {
          "name": "stdout",
          "output_type": "stream",
          "text": [
            "[[ 6.76568598e-02  6.34958968e-02  4.87131290e-02  7.93049708e-02\n",
            "   3.74480523e-02  2.65277759e-03  3.93749215e-02 -7.09844474e-03\n",
            "   5.93614057e-02  3.15370187e-02  6.00980632e-02 -5.29051535e-02\n",
            "   4.06067707e-02 -2.59308610e-02  2.98428200e-02  1.12691021e-03\n",
            "   7.35149011e-02 -5.03819771e-02 -1.22386612e-01  2.37028301e-02\n",
            "   2.97264811e-02  4.24768850e-02  2.56337877e-02  1.99519261e-03\n",
            "  -5.69190904e-02 -2.71598231e-02 -3.29035483e-02  6.60248622e-02\n",
            "   1.19007140e-01 -4.58791256e-02 -7.26214424e-02 -3.25840041e-02\n",
            "   5.23413233e-02  4.50552776e-02  8.25301651e-03  3.67024057e-02\n",
            "  -1.39415236e-02  6.53918907e-02 -2.64272541e-02  2.06390207e-04\n",
            "  -1.36643294e-02 -3.62809822e-02 -1.95043571e-02 -2.89738551e-02\n",
            "   3.94270420e-02 -8.84091035e-02  2.62427866e-03  1.36714270e-02\n",
            "   4.83063459e-02 -3.11565790e-02 -1.17329150e-01 -5.11690192e-02\n",
            "  -8.85287821e-02 -2.18962505e-02  1.42986560e-02  4.44168225e-02\n",
            "  -1.34815350e-02  7.43392780e-02  2.66382433e-02 -1.98762640e-02\n",
            "   1.79191455e-02 -1.06052523e-02 -9.04263258e-02  2.13269014e-02\n",
            "   1.41204864e-01 -6.47174520e-03 -1.40388636e-03 -1.53610092e-02\n",
            "  -8.73571709e-02  7.22174272e-02  2.01403107e-02  4.25587706e-02\n",
            "  -3.49014476e-02  3.19597224e-04 -8.02970752e-02 -3.27472463e-02\n",
            "   2.85268147e-02 -5.13658077e-02  1.09389186e-01  8.19328129e-02\n",
            "  -9.84039605e-02 -9.34094787e-02 -1.51292356e-02  4.51248363e-02\n",
            "   4.94172126e-02 -2.51868237e-02  1.57077331e-02 -1.29290760e-01\n",
            "   5.31895133e-03  4.02342621e-03 -2.34572291e-02 -6.72983080e-02\n",
            "   2.92280763e-02 -2.60845367e-02  1.30625125e-02 -3.11663095e-02\n",
            "  -4.82713729e-02 -5.58859818e-02 -3.87505293e-02  1.20010808e-01\n",
            "  -1.03924321e-02  4.89705093e-02  5.53537235e-02  4.49358784e-02\n",
            "  -4.00968408e-03 -1.02959737e-01 -2.92968359e-02 -5.83402216e-02\n",
            "   2.70472374e-02 -2.20169500e-02 -7.22241476e-02 -4.13869657e-02\n",
            "  -1.93298180e-02  2.73331814e-03  2.76921986e-04 -9.67587903e-02\n",
            "  -1.00574754e-01 -1.41922841e-02 -8.07891637e-02  4.53925394e-02\n",
            "   2.45040935e-02  5.97613864e-02 -7.38185346e-02  1.19843856e-02\n",
            "  -6.63403124e-02 -7.69045055e-02  3.85157838e-02 -5.59361962e-33\n",
            "   2.80013848e-02 -5.60784526e-02 -4.86602075e-02  2.15569902e-02\n",
            "   6.01980649e-02 -4.81402911e-02 -3.50246914e-02  1.93313975e-02\n",
            "  -1.75152365e-02 -3.89209799e-02 -3.81059060e-03 -1.70287546e-02\n",
            "   2.82099694e-02  1.28290541e-02  4.71601412e-02  6.21029772e-02\n",
            "  -6.43588752e-02  1.29285648e-01 -1.31231053e-02  5.23069426e-02\n",
            "  -3.73680778e-02  2.89094411e-02 -1.68981198e-02 -2.37330236e-02\n",
            "  -3.33492011e-02 -5.16762920e-02  1.55356955e-02  2.08802875e-02\n",
            "  -1.25371292e-02  4.59578857e-02  3.72720361e-02  2.80566830e-02\n",
            "  -5.90005256e-02 -1.16988542e-02  4.92182374e-02  4.70328666e-02\n",
            "   7.35487416e-02 -3.70530114e-02  3.98460031e-03  1.06412293e-02\n",
            "  -1.61534670e-04 -5.27165905e-02  2.75927614e-02 -3.92921790e-02\n",
            "   8.44717696e-02  4.86860760e-02 -4.85876109e-03  1.79948304e-02\n",
            "  -4.28570397e-02  1.23375449e-02  6.39958307e-03  4.04822715e-02\n",
            "   1.48887634e-02 -1.53941344e-02  7.62947574e-02  2.37043481e-02\n",
            "   4.45237532e-02  5.08195162e-02 -2.31252401e-03 -1.88737158e-02\n",
            "  -1.23335449e-02  4.66001965e-02 -5.63438199e-02  6.29927441e-02\n",
            "  -3.15535069e-02  3.24912071e-02  2.34673209e-02 -6.55438080e-02\n",
            "   2.01709233e-02  2.57082619e-02 -1.23868361e-02 -8.36497825e-03\n",
            "  -6.64377734e-02  9.43073779e-02 -3.57092731e-02 -3.42483148e-02\n",
            "  -6.66357251e-03 -8.01530294e-03 -3.09711099e-02  4.33012284e-02\n",
            "  -8.21395591e-03 -1.50795057e-01  3.07692084e-02  4.00718674e-02\n",
            "  -3.79293896e-02  1.93212903e-03  4.00530584e-02 -8.77074897e-02\n",
            "  -3.68491635e-02  8.57953168e-03 -3.19251604e-02 -1.25258109e-02\n",
            "   7.35539347e-02  1.34736625e-03  2.05919035e-02  2.71098017e-33\n",
            "  -5.18577024e-02  5.78360595e-02 -9.18985531e-02  3.94421890e-02\n",
            "   1.05576552e-01 -1.96912196e-02  6.18402548e-02 -7.63464719e-02\n",
            "   2.40880474e-02  9.40048993e-02 -1.16535455e-01  3.71198729e-02\n",
            "   5.22425100e-02 -3.95855820e-03  5.72214685e-02  5.32855559e-03\n",
            "   1.24016829e-01  1.39022768e-02 -1.10249342e-02  3.56053226e-02\n",
            "  -3.30754519e-02  8.16574022e-02 -1.52003868e-02  6.05585240e-02\n",
            "  -6.01397082e-02  3.26102450e-02 -3.48296762e-02 -1.69881620e-02\n",
            "  -9.74907428e-02 -2.71483641e-02  1.74707652e-03 -7.68982396e-02\n",
            "  -4.31858003e-02 -1.89985577e-02 -2.91660931e-02  5.77488504e-02\n",
            "   2.41821706e-02 -1.16901919e-02 -6.21434748e-02  2.84351800e-02\n",
            "  -2.37504923e-04 -2.51783449e-02  4.39633196e-03  8.12840313e-02\n",
            "   3.64184491e-02 -6.04006313e-02 -3.65517661e-02 -7.93748274e-02\n",
            "  -5.08529088e-03  6.69698939e-02 -1.17784329e-01  3.23743857e-02\n",
            "  -4.71252352e-02 -1.34459976e-02 -9.48445275e-02  8.24947376e-03\n",
            "  -1.06748454e-02 -6.81881979e-02  1.11816276e-03  2.48020198e-02\n",
            "  -6.35889471e-02  2.84492783e-02 -2.61303280e-02  8.58111382e-02\n",
            "   1.14682242e-01 -5.35345860e-02 -5.63588031e-02  4.26008888e-02\n",
            "   1.09454151e-02  2.09579077e-02  1.00131221e-01  3.26051302e-02\n",
            "  -1.84208795e-01 -3.93208265e-02 -6.91454858e-02 -6.38105273e-02\n",
            "  -6.56386092e-02 -6.41252613e-03 -4.79612537e-02 -7.68133029e-02\n",
            "   2.95384414e-02 -2.29948554e-02  4.17036936e-02 -2.50047687e-02\n",
            "  -4.54506418e-03 -4.17136997e-02 -1.32289864e-02 -6.38357997e-02\n",
            "  -2.46472540e-03 -1.37337726e-02  1.68976504e-02 -6.30398244e-02\n",
            "   8.98880884e-02  4.18170951e-02 -1.85687765e-02 -1.80442132e-08\n",
            "  -1.67998243e-02 -3.21577899e-02  6.30383566e-02 -4.13092002e-02\n",
            "   4.44819331e-02  2.02464079e-03  6.29592538e-02 -5.17373346e-03\n",
            "  -1.00444295e-02 -3.05640679e-02  3.52672637e-02  5.58581688e-02\n",
            "  -4.67124954e-02  3.45102586e-02  3.29578072e-02  4.30114493e-02\n",
            "   2.94361394e-02 -3.03164367e-02 -1.71107426e-02  7.37485215e-02\n",
            "  -5.47910035e-02  2.77515594e-02  6.20163744e-03  1.58800483e-02\n",
            "   3.42978649e-02 -5.15752193e-03  2.35079583e-02  7.53135532e-02\n",
            "   1.92843527e-02  3.36196758e-02  5.09103462e-02  1.52497098e-01\n",
            "   1.64207853e-02  2.70528682e-02  3.75162475e-02  2.18553524e-02\n",
            "   5.66334017e-02 -3.95747311e-02  7.12313578e-02 -5.41376919e-02\n",
            "   1.03773025e-03  2.11852826e-02 -3.56309265e-02  1.09016985e-01\n",
            "   2.76524923e-03  3.13997492e-02  1.38417841e-03 -3.45738605e-02\n",
            "  -4.59277593e-02  2.88083386e-02  7.16909161e-03  4.84684892e-02\n",
            "   2.61018164e-02 -9.44074802e-03  2.82169338e-02  3.48723866e-02\n",
            "   3.69098447e-02 -8.58948659e-03 -3.53205837e-02 -2.47857086e-02\n",
            "  -1.91921126e-02  3.80708016e-02  5.99653795e-02 -4.22286987e-02]\n",
            " [ 8.64385813e-02  1.02762617e-01  5.39453980e-03  2.04444886e-03\n",
            "  -9.96338483e-03  2.53854915e-02  4.92875613e-02 -3.06265820e-02\n",
            "   6.87255040e-02  1.01365726e-02  7.75397569e-02 -9.00806859e-02\n",
            "   6.10616338e-03 -5.69898635e-02  1.41715091e-02  2.80491468e-02\n",
            "  -8.68464336e-02  7.64399096e-02 -1.03491284e-01 -6.77438006e-02\n",
            "   6.99947104e-02  8.44251215e-02 -7.24915788e-03  1.04770744e-02\n",
            "   1.34020690e-02  6.77576512e-02 -9.42086428e-02 -3.71690057e-02\n",
            "   5.22617511e-02 -3.10853329e-02 -9.63406786e-02  1.57716963e-02\n",
            "   2.57866587e-02  7.85244927e-02  7.89949372e-02  1.91516727e-02\n",
            "   1.64356623e-02  3.10082198e-03  3.81311476e-02  2.37090401e-02\n",
            "   1.05389822e-02 -4.40645032e-02  4.41738144e-02 -2.58727577e-02\n",
            "   6.15378581e-02 -4.05427739e-02 -8.64140391e-02  3.19722444e-02\n",
            "  -8.90705618e-04 -2.44436823e-02 -9.19721425e-02  2.33939681e-02\n",
            "  -8.30292925e-02  4.41510193e-02 -2.49692909e-02  6.23020269e-02\n",
            "  -1.30349852e-03  7.51395300e-02  2.46385001e-02 -6.47244528e-02\n",
            "  -1.17727771e-01  3.83392163e-02 -9.11767334e-02  6.35446087e-02\n",
            "   7.62739629e-02 -8.80241469e-02  9.54555813e-03 -4.69717383e-02\n",
            "  -8.41740593e-02  3.88823561e-02 -1.14393570e-01  6.28858758e-03\n",
            "  -3.49361449e-02  2.39750892e-02 -3.31317075e-02 -1.57244094e-02\n",
            "  -3.78955565e-02 -8.81245174e-03  7.06118718e-02  3.28066275e-02\n",
            "   2.03675800e-03 -1.12278983e-01  6.79720705e-03  1.22765480e-02\n",
            "   3.35303508e-02 -1.36200497e-02 -2.25489978e-02 -2.25228872e-02\n",
            "  -2.03194264e-02  5.04297428e-02 -7.48652965e-02 -8.22822303e-02\n",
            "   7.65962750e-02  4.93392348e-02 -3.75553332e-02  1.44634424e-02\n",
            "  -5.72457612e-02 -1.79954376e-02  1.09697983e-01  1.19462758e-01\n",
            "   8.09216639e-04  6.17057905e-02  3.26322690e-02 -1.30780146e-01\n",
            "  -1.48636624e-01 -6.16233051e-02  4.33886163e-02  2.67129485e-02\n",
            "   1.39785931e-02 -3.94002497e-02 -2.52711102e-02  3.87744256e-03\n",
            "   3.58664654e-02 -6.15420602e-02  3.76660898e-02  2.67564915e-02\n",
            "  -3.82659286e-02 -3.54793556e-02 -2.39227545e-02  8.67977366e-02\n",
            "  -1.84063111e-02  7.71039575e-02  1.39862963e-03  7.00383112e-02\n",
            "  -4.77877744e-02 -7.89820254e-02  5.10814041e-02 -2.99868388e-33\n",
            "  -3.91646102e-02 -2.56208074e-03  1.65210329e-02  9.48941335e-03\n",
            "  -5.66219389e-02  6.57782853e-02 -4.77002747e-02  1.11661525e-02\n",
            "  -5.73558472e-02 -9.16258432e-03 -2.17521060e-02 -5.59531860e-02\n",
            "  -1.11422660e-02  9.32793394e-02  1.66764949e-02 -1.36723779e-02\n",
            "   4.34388630e-02  1.87245745e-03  7.29950005e-03  5.16332202e-02\n",
            "   4.80608679e-02  1.35341480e-01 -1.71739124e-02 -1.29698301e-02\n",
            "  -7.50109926e-02  2.61108372e-02  2.69801989e-02  7.83074123e-04\n",
            "  -4.87269908e-02  1.17842592e-02 -4.59580310e-02 -4.83213887e-02\n",
            "  -1.95671003e-02  1.93889178e-02  1.98807120e-02  1.67432241e-02\n",
            "   9.87801403e-02 -2.74087898e-02  2.34808903e-02  3.70230433e-03\n",
            "  -6.14514463e-02 -1.21231098e-03 -9.50472709e-03  9.25154705e-03\n",
            "   2.38443688e-02  8.61232132e-02  2.26789992e-02  5.45115618e-04\n",
            "   3.47129963e-02  6.25458686e-03 -6.92775892e-03  3.92400734e-02\n",
            "   1.15674837e-02  3.26279923e-02  6.22155480e-02  2.76114233e-02\n",
            "   1.86883807e-02  3.55805494e-02  4.11795937e-02  1.54781938e-02\n",
            "   4.22691479e-02  3.82248498e-02  1.00313378e-02 -2.83245891e-02\n",
            "   4.47052419e-02 -4.10458967e-02 -4.50545503e-03 -5.44734299e-02\n",
            "   2.62321234e-02  1.79862194e-02 -1.23118781e-01 -4.66952175e-02\n",
            "  -1.35913556e-02  6.46710247e-02  3.57351103e-03 -1.22234439e-02\n",
            "  -1.79382302e-02 -2.55502444e-02  2.37224512e-02  4.08664206e-03\n",
            "  -6.51475266e-02  4.43651676e-02  4.68596034e-02 -3.25175002e-02\n",
            "   4.02273890e-03 -3.97605682e-03  1.11939460e-02 -9.95597839e-02\n",
            "   3.33168320e-02  8.01060647e-02  9.42692533e-02 -6.38294220e-02\n",
            "   3.23151648e-02 -5.13553321e-02 -7.49877654e-03  5.30048173e-34\n",
            "  -4.13194671e-02  9.49646682e-02 -1.06401436e-01  4.96590585e-02\n",
            "  -3.41913737e-02 -3.16745788e-02 -1.71555970e-02  1.70102774e-03\n",
            "   5.79757951e-02 -1.21777644e-03 -1.68536119e-02 -5.16912714e-02\n",
            "   5.52998893e-02 -3.42647433e-02  3.08179166e-02 -3.10481042e-02\n",
            "   9.27532390e-02  3.72663476e-02 -2.37397570e-02  4.45893481e-02\n",
            "   1.46153690e-02  1.16239332e-01 -5.00112660e-02  3.88716273e-02\n",
            "   4.24749311e-03  2.56976411e-02  3.27243805e-02  4.29907888e-02\n",
            "  -1.36144506e-02  2.56122071e-02  1.06261997e-02 -8.46864134e-02\n",
            "  -9.52982157e-02  1.08399868e-01 -7.51600266e-02 -1.37773911e-02\n",
            "   6.37337938e-02 -4.49667359e-03 -3.25321294e-02  6.23613894e-02\n",
            "   3.48053090e-02 -3.54921930e-02 -2.00222358e-02  3.66608016e-02\n",
            "  -2.48837154e-02  1.01819159e-02 -7.01233000e-02 -4.31950875e-02\n",
            "   2.95333005e-02 -2.94999278e-04 -3.45386267e-02  1.46675427e-02\n",
            "  -9.83970016e-02 -4.70488630e-02 -8.85496847e-03 -8.89914259e-02\n",
            "   3.50995511e-02 -1.29602015e-01 -4.98866029e-02 -6.12047240e-02\n",
            "  -5.97797371e-02  9.46317986e-03  4.91217673e-02 -7.75026605e-02\n",
            "   8.09726939e-02 -4.79257517e-02  2.34378269e-03  7.57030919e-02\n",
            "  -2.40175799e-02 -1.52546279e-02  4.86738868e-02 -3.85968760e-02\n",
            "  -7.04831555e-02 -1.20348120e-02 -3.88790332e-02 -7.76016787e-02\n",
            "  -1.07243601e-02  1.04187876e-02 -2.13753786e-02 -9.17386636e-02\n",
            "  -1.11344680e-02 -2.96065919e-02  2.46458426e-02  4.65712743e-03\n",
            "  -1.63449720e-02 -3.95219624e-02  7.73373768e-02 -2.84732897e-02\n",
            "  -3.69942165e-03  8.27665180e-02 -1.10408943e-02  3.13983597e-02\n",
            "   5.35094179e-02  5.75145893e-02 -3.17622162e-02 -1.52911284e-08\n",
            "  -7.99661651e-02 -4.76797111e-02 -8.59788731e-02  5.69616668e-02\n",
            "  -4.08866294e-02  2.23832354e-02 -4.64445446e-03 -3.80131193e-02\n",
            "  -3.10670938e-02 -1.07278274e-02  1.97698288e-02  7.76998326e-03\n",
            "  -6.09474257e-03 -3.86376306e-02  2.80271918e-02  6.78138286e-02\n",
            "  -2.35350784e-02  3.21747847e-02  8.02540313e-03 -2.39107274e-02\n",
            "  -1.22000836e-03  3.14599015e-02 -5.24924472e-02 -8.06814246e-03\n",
            "   3.14772828e-03  5.11496998e-02 -4.44105119e-02  6.36013299e-02\n",
            "   3.85083631e-02  3.30432691e-02 -4.18727705e-03  4.95592579e-02\n",
            "  -5.69604859e-02 -6.49709441e-03 -2.49793455e-02 -1.60867143e-02\n",
            "   6.62289113e-02 -2.06310451e-02  1.08045749e-01  1.68546867e-02\n",
            "   1.43812830e-02 -1.32126845e-02 -1.29387408e-01  6.95216432e-02\n",
            "  -5.55773191e-02 -6.75413385e-02 -5.45819756e-03 -6.13592798e-03\n",
            "   3.90841179e-02 -6.28779680e-02  3.74063514e-02 -1.16571188e-02\n",
            "   1.29150162e-02 -5.52495979e-02  5.16075790e-02 -4.30838251e-03\n",
            "   5.80247380e-02  1.86945051e-02  2.27810461e-02  3.21666002e-02\n",
            "   5.37978634e-02  7.02849254e-02  7.49312118e-02 -8.41775015e-02]]\n"
          ]
        }
      ],
      "source": [
        "from sentence_transformers import SentenceTransformer\n",
        "sentences = [\"This is an example sentence\", \"Each sentence is converted\"]\n",
        "\n",
        "model = SentenceTransformer('sentence-transformers/all-MiniLM-L6-v2')\n",
        "embeddings = model.encode(sentences)\n",
        "print(embeddings)"
      ]
    },
    {
      "cell_type": "code",
      "execution_count": null,
      "metadata": {
        "colab": {
          "base_uri": "https://localhost:8080/",
          "height": 89
        },
        "id": "4HGqDrOJgtPP",
        "outputId": "1a04331a-1cad-49e7-8afa-d4200a2280fb"
      },
      "outputs": [
        {
          "data": {
            "application/vnd.google.colaboratory.intrinsic+json": {
              "type": "string"
            },
            "text/plain": [
              "'\\nquery = \"How many people live in London?\"\\ndocs = [\"Around 9 Million people live in London\", \"London is known for its financial district\"]\\n\\n#Load the model\\nmodel = SentenceTransformer(\\'sentence-transformers/multi-qa-mpnet-base-dot-v1\\')\\n\\n#Encode query and documents\\nquery_emb = model.encode(query)\\ndoc_emb = model.encode(docs)\\n\\n#Compute dot score between query and all document embeddings\\nscores = util.dot_score(query_emb, doc_emb)[0].tolist()\\n\\n#Output passages & scores\\nfor ind,score in enumerate(scores):\\n    print(score, docs[ind])\\n'"
            ]
          },
          "execution_count": 197,
          "metadata": {},
          "output_type": "execute_result"
        }
      ],
      "source": [
        "from sentence_transformers import SentenceTransformer, util\n",
        "\n",
        "\"\"\"\n",
        "query = \"How many people live in London?\"\n",
        "docs = [\"Around 9 Million people live in London\", \"London is known for its financial district\"]\n",
        "\n",
        "#Load the model\n",
        "model = SentenceTransformer('sentence-transformers/multi-qa-mpnet-base-dot-v1')\n",
        "\n",
        "#Encode query and documents\n",
        "query_emb = model.encode(query)\n",
        "doc_emb = model.encode(docs)\n",
        "\n",
        "#Compute dot score between query and all document embeddings\n",
        "scores = util.dot_score(query_emb, doc_emb)[0].tolist()\n",
        "\n",
        "#Output passages & scores\n",
        "for ind,score in enumerate(scores):\n",
        "    print(score, docs[ind])\n",
        "\"\"\""
      ]
    },
    {
      "cell_type": "code",
      "execution_count": null,
      "metadata": {
        "id": "ISvIGZg2jSPz"
      },
      "outputs": [],
      "source": [
        "summary_encodings = []\n",
        "for summary in all_summaries:\n",
        "  sentence_list = summary.split(\"<sep>\")\n",
        "  sentence_list = sentence_list[1:]\n",
        "\n",
        "  sent_encodings = []\n",
        "  for sent in sentence_list:\n",
        "    sent_encodings.append(model.encode(sent))\n",
        "  summary_encodings.append(sent_encodings)"
      ]
    },
    {
      "cell_type": "code",
      "execution_count": null,
      "metadata": {
        "colab": {
          "base_uri": "https://localhost:8080/"
        },
        "id": "37NsQfV-nclI",
        "outputId": "2a621dea-886c-46e6-d2dd-d61f7b94aa85"
      },
      "outputs": [
        {
          "data": {
            "text/plain": [
              "17"
            ]
          },
          "execution_count": 199,
          "metadata": {},
          "output_type": "execute_result"
        }
      ],
      "source": [
        "len(summary_encodings[9])"
      ]
    },
    {
      "cell_type": "code",
      "execution_count": null,
      "metadata": {
        "id": "oJhZA8KQkmM3"
      },
      "outputs": [],
      "source": [
        "import numpy as np"
      ]
    },
    {
      "cell_type": "code",
      "execution_count": null,
      "metadata": {
        "colab": {
          "base_uri": "https://localhost:8080/",
          "height": 53
        },
        "id": "gvbfUJIckFPg",
        "outputId": "7df8cc07-51e0-4400-9089-377e8153cbc0"
      },
      "outputs": [
        {
          "data": {
            "application/vnd.google.colaboratory.intrinsic+json": {
              "type": "string"
            },
            "text/plain": [
              "'\\ndoc_emb = model.encode(docs)\\nscores = util.dot_score(doc_emb[0]/np.linalg.norm(doc_emb[0]), doc_emb[1]/np.linalg.norm(doc_emb[1]))[0]\\nscores\\n'"
            ]
          },
          "execution_count": 201,
          "metadata": {},
          "output_type": "execute_result"
        }
      ],
      "source": [
        "\"\"\"\n",
        "doc_emb = model.encode(docs)\n",
        "scores = util.dot_score(doc_emb[0]/np.linalg.norm(doc_emb[0]), doc_emb[1]/np.linalg.norm(doc_emb[1]))[0]\n",
        "scores\n",
        "\"\"\""
      ]
    },
    {
      "cell_type": "code",
      "execution_count": null,
      "metadata": {
        "colab": {
          "base_uri": "https://localhost:8080/"
        },
        "id": "_dqpZgfUkFka",
        "outputId": "c59ab1b7-556c-45fe-e02e-5c8cc162fad7"
      },
      "outputs": [
        {
          "data": {
            "text/plain": [
              "array([1, 1, 0, 0, 0, 0])"
            ]
          },
          "execution_count": 202,
          "metadata": {},
          "output_type": "execute_result"
        }
      ],
      "source": [
        "from sklearn.cluster import AgglomerativeClustering\n",
        "\n",
        "\n",
        "X = np.array([[1, 2], [1, 4], [1, 0],\n",
        "              [4, 2], [4, 4], [4, 0]])\n",
        "clustering = AgglomerativeClustering(n_clusters=None,distance_threshold=0.65,affinity='cosine',linkage=\"complete\").fit(X)\n",
        "clustering\n",
        "\n",
        "clustering.labels_\n"
      ]
    },
    {
      "cell_type": "code",
      "execution_count": null,
      "metadata": {
        "id": "I7n6oBGik3ik"
      },
      "outputs": [],
      "source": [
        "from collections import Counter\n",
        "cluster_summaries = []\n",
        "for index,sent_encodings in enumerate(summary_encodings):\n",
        "  clustering = AgglomerativeClustering(n_clusters=None,distance_threshold=0.65,affinity='cosine',linkage=\"complete\").fit(sent_encodings)\n",
        "  #print(clustering.labels_)\n",
        "  clusters = clustering.labels_\n",
        "  counts = Counter(clusters)\n",
        "  intital_counts = Counter(clusters)\n",
        "  num = 1\n",
        "  while counts[num] != 0:\n",
        "    counts[num] = counts[num] + counts[num - 1]\n",
        "    num += 1\n",
        "  summary_len = int(1 * counts[num - 1])\n",
        "  cluster_count = summary_len * 0.5 / num\n",
        "  #print(cluster_count)\n",
        "  \n",
        "  \n",
        "  cluster_summary = \"\"\n",
        "  #print(num)\n",
        "  taken = Counter()\n",
        "\n",
        "  for i in range(0,num):\n",
        "    if intital_counts[clusters[i]] > cluster_count:\n",
        "      taken[i] = 1\n",
        "\n",
        "  final_sum = \"\"\n",
        "  sentence_list = all_summaries[index].split(\"<sep>\")\n",
        "  sentence_list = sentence_list[1:]\n",
        "  for i,sentence in enumerate(sentence_list):\n",
        "    if taken[i] == 1:\n",
        "      final_sum = final_sum + sentence + \" \"\n",
        "  cluster_summaries.append(final_sum)\n",
        "  "
      ]
    },
    {
      "cell_type": "code",
      "execution_count": null,
      "metadata": {
        "colab": {
          "base_uri": "https://localhost:8080/",
          "height": 124
        },
        "id": "tGuhniopn7VK",
        "outputId": "2ea5a14a-4ad2-4aec-8f47-9fdfc26a4de3"
      },
      "outputs": [
        {
          "data": {
            "application/vnd.google.colaboratory.intrinsic+json": {
              "type": "string"
            },
            "text/plain": [
              "' if your date of volunteering was given as nov-2016 then i would assume that you volunteered for the whole month.   that would greatly reduce your chances of being hired.   if you were hired, and part of the reason for taking you and not someone else was the volunteering, then your job would be in extreme danger if this was found out.   and seriously, if i read \"volunteering for one day\" i would have questions about your state of mind.   specifying that you volunteered for one event on one day that has no real connection to your job does not really add much to your resume.   even worse, as mentioned in the other answers, lying about the duration or making it unclear would be a very bad move.   can i list one day of volunteer work as “month-year”?  '"
            ]
          },
          "execution_count": 204,
          "metadata": {},
          "output_type": "execute_result"
        }
      ],
      "source": [
        "cluster_summaries[0]"
      ]
    },
    {
      "cell_type": "code",
      "execution_count": null,
      "metadata": {
        "colab": {
          "base_uri": "https://localhost:8080/"
        },
        "id": "hm96HnH-oDak",
        "outputId": "55e68da9-1ded-4693-dd5e-8af4a1fb4f66"
      },
      "outputs": [
        {
          "name": "stderr",
          "output_type": "stream",
          "text": [
            "/usr/local/lib/python3.7/dist-packages/transformers/models/t5/tokenization_t5_fast.py:166: FutureWarning: This tokenizer was incorrectly instantiated with a model max length of 512 which will be corrected in Transformers v5.\n",
            "For now, this behavior is kept to avoid breaking backwards compatibility when padding/encoding with `truncation is True`.\n",
            "- Be aware that you SHOULD NOT rely on t5-base automatically truncating your input to 512 when padding/encoding.\n",
            "- If you want to encode/pad to sequences longer than 512 you can either instantiate this tokenizer with `model_max_length` or pass `max_length` when encoding/padding.\n",
            "- To avoid this warning, please instantiate this tokenizer with `model_max_length` set to your preferred value.\n",
            "  FutureWarning,\n"
          ]
        }
      ],
      "source": [
        "\"\"\"\n",
        "from transformers import pipeline\n",
        "summarizer = pipeline(\"summarization\", model=\"t5-base\", tokenizer=\"t5-base\")\n",
        "\"\"\""
      ]
    },
    {
      "cell_type": "code",
      "execution_count": null,
      "metadata": {
        "id": "HLpjX9NGpp2d"
      },
      "outputs": [],
      "source": [
        "from transformers import BartForConditionalGeneration, AutoTokenizer\n",
        "\n",
        "from transformers import TrainingArguments, Trainer\n",
        "from transformers import DataCollatorForSeq2Seq\n"
      ]
    },
    {
      "cell_type": "code",
      "execution_count": null,
      "metadata": {
        "id": "JdoQ2jwTpOzd"
      },
      "outputs": [],
      "source": [
        "model = torch.load(\"pytorch_model.bin\")\n",
        "model_ckpt = \"pytorch_model.bin\"\n",
        "tokenizer = AutoTokenizer.from_pretrained(model_ckpt)\n",
        "summarizer = BartForConditionalGeneration.from_pretrained(model_ckpt)\n",
        "seq2seq_data_collator = DataCollatorForSeq2Seq(tokenizer, model=summarizer)\n",
        "\n",
        "training_args = TrainingArguments(output_dir='bart-multi-news', num_train_epochs=1, warmup_steps=500, per_device_train_batch_size=1, per_device_eval_batch_size=1, weight_decay=0.01, logging_steps=10, push_to_hub=False, \n",
        "evaluation_strategy='steps', eval_steps=500, save_steps=1e6, \n",
        "gradient_accumulation_steps=16)\n",
        "\n",
        "trainer = Trainer(model=summarizer, args=training_args, tokenizer=tokenizer, data_collator=seq2seq_data_collator, train_dataset=answersumm[\"train\"], eval_dataset=answersumm[\"test\"])\n",
        "trainer.train()"
      ]
    },
    {
      "cell_type": "code",
      "execution_count": null,
      "metadata": {
        "id": "iZjVi9Xp3WBn"
      },
      "outputs": [],
      "source": [
        "final_summaries = []\n",
        "i = 0\n",
        "for summary in cluster_summaries:\n",
        "  final_summaries.append(summarizer(summary, truncation=True, max_length=150, min_length=50, do_sample=False)[0]['summary_text'])\n",
        "  i = i +1\n",
        "  print(i)"
      ]
    },
    {
      "cell_type": "code",
      "execution_count": null,
      "metadata": {
        "colab": {
          "base_uri": "https://localhost:8080/",
          "height": 71
        },
        "id": "6A2vKMG09d_a",
        "outputId": "43e1cf13-6c04-41cd-a694-9fb73e41657e"
      },
      "outputs": [
        {
          "data": {
            "application/vnd.google.colaboratory.intrinsic+json": {
              "type": "string"
            },
            "text/plain": [
              "'lz granderson: if your date of volunteering was nov-2016, that would greatly reduce your chances of being hired . he says if you were hired, part of the reason for taking you and not someone else was the volunteering . granderson says lying about the duration or making it unclear would be a very bad move .'"
            ]
          },
          "execution_count": 207,
          "metadata": {},
          "output_type": "execute_result"
        }
      ],
      "source": [
        "final_summaries[0]"
      ]
    },
    {
      "cell_type": "code",
      "execution_count": null,
      "metadata": {
        "colab": {
          "base_uri": "https://localhost:8080/"
        },
        "id": "dwVIBYxp3iAh",
        "outputId": "c8b86890-9ba7-4446-edfa-d94eafe2f5e8"
      },
      "outputs": [
        {
          "name": "stdout",
          "output_type": "stream",
          "text": [
            "Looking in indexes: https://pypi.org/simple, https://us-python.pkg.dev/colab-wheels/public/simple/\n",
            "Requirement already satisfied: rouge in /usr/local/lib/python3.7/dist-packages (1.0.1)\n",
            "Requirement already satisfied: six in /usr/local/lib/python3.7/dist-packages (from rouge) (1.15.0)\n"
          ]
        }
      ],
      "source": [
        "!pip install rouge"
      ]
    },
    {
      "cell_type": "code",
      "execution_count": null,
      "metadata": {
        "id": "VQ4wpwGb38Lp"
      },
      "outputs": [],
      "source": [
        "from rouge import Rouge\n",
        "rouge = Rouge()"
      ]
    },
    {
      "cell_type": "code",
      "execution_count": null,
      "metadata": {
        "colab": {
          "base_uri": "https://localhost:8080/"
        },
        "id": "VKNpfKY03zPy",
        "outputId": "4b1b9255-f2cd-4f99-ab87-66dbf87865da"
      },
      "outputs": [
        {
          "data": {
            "text/plain": [
              "(25.29008591703774, 5.889565730601001, 21.10766150429837)"
            ]
          },
          "execution_count": 210,
          "metadata": {},
          "output_type": "execute_result"
        }
      ],
      "source": [
        "# Calculate Rouge Scores\n",
        "avg_r1 = 0\n",
        "avg_r2 = 0\n",
        "avg_rl = 0\n",
        "for i in range(MAX_COUNT):\n",
        "  scores = rouge.get_scores(final_summaries[i],answersumm[\"test\"][\"summaries\"][i][0][0] + \" \" +  answersumm[\"test\"][\"summaries\"][i][0][1] )\n",
        "  avg_r1 += scores[0][\"rouge-1\"]['f']\n",
        "  avg_r2 += scores[0][\"rouge-2\"]['f']\n",
        "  avg_rl += scores[0][\"rouge-l\"]['f']\n",
        "           \n",
        "\n",
        "avg_r1 = avg_r1 * 100.0 / MAX_COUNT\n",
        "avg_r2 = avg_r2 * 100.0 / MAX_COUNT\n",
        "avg_rl = avg_rl * 100.0 / MAX_COUNT\n",
        "avg_r1,avg_r2,avg_rl"
      ]
    },
    {
      "cell_type": "code",
      "execution_count": null,
      "metadata": {
        "colab": {
          "base_uri": "https://localhost:8080/",
          "height": 71
        },
        "id": "9zjTNiXt4DJE",
        "outputId": "4b3a252b-c435-485d-9541-e6ddbc4d6c7a"
      },
      "outputs": [
        {
          "data": {
            "application/vnd.google.colaboratory.intrinsic+json": {
              "type": "string"
            },
            "text/plain": [
              "\"You might be better off not mentioning the volunteering on your CV at all, but if you do then you don't need to mention the dates. It is generally agreed that you cannot list a single day of volunteering with a simple month and year. However, it is probably not necessary to give dates for volunteer activities in any case.\""
            ]
          },
          "execution_count": 211,
          "metadata": {},
          "output_type": "execute_result"
        }
      ],
      "source": [
        "answersumm[\"train\"][\"summaries\"][0][0][0] + \" \" +  answersumm[\"train\"][\"summaries\"][0][0][1]"
      ]
    },
    {
      "cell_type": "code",
      "execution_count": null,
      "metadata": {
        "colab": {
          "base_uri": "https://localhost:8080/"
        },
        "id": "nx3I119Y4u_O",
        "outputId": "96d9f614-5c42-4bb7-9abf-8fb526a7e0d7"
      },
      "outputs": [
        {
          "name": "stdout",
          "output_type": "stream",
          "text": [
            "Question - I am looking for volunteering experience that I can highlight on my resume or LinkedIn for an IT help-desk job, but mostly I find ones for a specific day, such as \"Volunteers required for Garden Cleaning on this day\".  Is it a good idea to mention the date of that one day volunteering for a whole month like \"Nov-2016\", although it was actually only one day?\n",
            "Precited Summary - lz granderson: if your date of volunteering was nov-2016, that would greatly reduce your chances of being hired . he says if you were hired, part of the reason for taking you and not someone else was the volunteering . granderson says lying about the duration or making it unclear would be a very bad move .\n",
            "Final Summary - You might be better off not mentioning the volunteering on your CV at all, but if you do then you don't need to mention the dates. It is generally agreed that you cannot list a single day of volunteering with a simple month and year. However, it is probably not necessary to give dates for volunteer activities in any case.\n",
            "-------\n",
            "\n",
            "Question - I've been asked to start writing letters for my boss. My boss will then send out these letters with her signature underneath them.   My boss has a particular writing style, and she wants me to write using her writing style. I've never imitated someone's writing style before. Does anyone here have any advice on how to do this?\n",
            "Precited Summary - create yourself a library of templates from her correspondence . if she asks you to write a specific letter to a party you can't think of a template . make a draft letter and ask for her opinion . read as much of her writing as you can to imitate her style .\n",
            "Final Summary - Read as much of her writing as you can for inspiration and make a list of her favourite expressions that you can cut and paste into your writing. Write a draft letter and ask for her opinion on it.  An important step when trying to imitate your boss' writing style would be to read her previous correspondence for inspiration. From this, you can also try to identify commonly used expressions and idioms or even create a template for future correspondence. Of course, you may also wish to get her feedback on any draft letters that you do write.\n",
            "-------\n",
            "\n",
            "Question - What can I do about people picking on me at work? When asked they reply with:   I only pick on people that I like   This keeps happening to me weekly, and has now progressed to pranks that involve messing with my car.\n",
            "Precited Summary - document each occurrence with pictures and dates/times . this person sounds like the type of person who needs to be either reprimanded so his behavior changes, or fired . advise your boss that you will be doing this (again, in writing)\n",
            "Final Summary - You should think about going to HR or your manager and reporting the bullying. You should also document it and make note of any witnesses. You could even go to the police and file a report for criminal damage to your car. Initially, you may wish to simply ask the bully to stop bothering you. However, if this is now repeated behaviour, you will probably want to report the matter to your boss or your company's HR department so that they can handle the matter correctly. Be sure to keep a record of all details, including photos, and don't discuss the matter with the party in question. If any criminal damage is inflicted, of course, there is the option of reporting the matter to the police or presenting the culprit with a bill for the damage.\n",
            "-------\n",
            "\n",
            "Question - Management expects every department to pick a song and participate in a song and dance video to be shown company-wide (think  https://youtu.be/X0v_InsGdSE  ). Everyone is \"expected\" to participate, though many find it demeaning. How do we opt out without being perceived as non team players?\n",
            "Precited Summary - lz granderson: people may \"tut\" that you didn't make a fool of yourself, but you participated . he says this is not about \"being a teamplayer\" at all . forcing people to do things that make them uncomfortable \"because it'll be fun\" is not okay, he writes .\n",
            "Final Summary - Come up with a reason that you would better off participating on the other side of the camera or just inform management that you won't be taking part. If all else fails, try taking a sick day. The simplest way to not participate would be either to not be in work that day or to insist that you are not taking part. However, if you want to avoid being perceived as a \"non-team-player\", you could look for other ways of participating that mean that you don't have to appear on camera.\n",
            "-------\n",
            "\n",
            "Question - I've been taking sertraline for about 3 years, and this year I, with the supervision of my psychiatrist, decided to stop taking it by reducing the dosage slowly. Some of the common symptoms of sertraline withdrawal are ( taken from here ):   anger  irritability  confusion  dizziness  sleepiness  depression   I don't know how I specifically will be affected, or if my productivity will be affected. Should I tell my boss or HR about it?\n",
            "Precited Summary - sertraline withdrawal is not their business be prepared to take a sick day or two if you're not feeling right . even with your psychiatrist dropping you down slowly, you can still get withdrawal . if the side effects are going to be intense, maybe you should consider going on medical leave .\n",
            "Final Summary - Many people recommend informing your boss and colleagues that you might experience some side-effects that could affect your work. However, it does depend on your relationship with your boss and colleagues. Other people argue that you should never tell people at work about medication you are on. The answer to this question will largely depend on your relationship with your boss and the overall culture of the company, but even still, the answer will be subjective. Some people wouldn't advise mentioned health issues to people in a work setting. Other people feel that it would be best to mention any personal issues that might affect your work to either your boss, HR or both.\n",
            "-------\n",
            "\n",
            "Question - Given my current schedule (including work) I am often up very late at night. I am looking for a new job and was wondering, does it look bad if a employer receives an application form at 3am or sometime where most people are sleeping? I am looking for more regular jobs (around 9-6) and expect to have to adjust my sleep schedule and am prepared for this.\n",
            "Precited Summary - roxanne jones: most employers don't even look at the timestamp of an application . she says if you are in current employment you might have no opportunity to apply during the working day . the majority of employers doesn't look beyond the date portion of the time-stamp, at all .\n",
            "Final Summary - No, the hiring manage will not consider this. It is not generally considered a problem to send job applications late at night.\n",
            "-------\n",
            "\n",
            "Question - A coworker has a song as their phone's ringtone, and the song lyrics could be flagged NSFW. It does not contain actual cursing, but has tons of obvious sexual innuendo. I think it is disturbing.  I talked to them, but it was to no avail. They refuse to change the ringtone. Other coworkers agree that this ringtone is not a good one, but that I should not press further.  Is there a way I can get them to change the ringtone, without escalating too much?\n",
            "Precited Summary - over-reacting and escalating the problem can also create a hostile workplace . making his phone ring while the boss is nearby is a cute idea . it could also backfire if your coworker can trace the incoming call back to you .\n",
            "Final Summary - Your next step would be to go to your manager but your colleagues' recommended approach is also a good one. You could try to set up a policy of no cellphone ringtones while at work.  The answer to this question is subjective, and some people feel that this issue would be best ignored. However, if you cannot stand the rington, you might want to consider talking to the person's boss and allowing them to handle the matter. If you want to take a more official stance, you could take a transcript of the lyrics to the ringtone to HR and discuss with them as to whether any company policies are being violated.\n",
            "-------\n",
            "\n",
            "Question - Last Saturday, I got in a snowboarding accident that resulted in a very noticeable facial injury. While the worst of it has already healed, a large portion of the wound is still healing up and will likely not finish healing up until next week.  Tomorrow I have an interview and am wondering if I should address this facial injury during the interview or just stay mute about it. I'm concerned whether or not the injury could have a negative impression before the interview starts.\n",
            "Precited Summary - i'm surprised the answers here so far all advocate, rather assuredly, that you should explain your injury first thing . it would be negative if you didn't mention it at all, as that leaves the interviewer to assume the worst - that you were in a fight .\n",
            "Final Summary - It would be a good idea to mention it in the beginning but don't go into too much detail. If you don't mention it then the interviewer might think you were in a fight. It would generally be advisable to explain your injury, even if only briefly. Not mentioning it at all could be seen negatively, but don't allow it to overshadow your interview.\n",
            "-------\n",
            "\n",
            "Question - I have been out of the workforce for far too long.  I really need to find a job but now I am having trouble remembering the dates of previous jobs ( start-stop dates ).  Can I get that information like employers would?  I would be able to know what I am telling them matches what they will see.Thank you in advance for any help with this matter.\n",
            "Precited Summary - do you have any old resume's around from last time you were job hunting? call the hr department of every company you worked for and enlist their help . at some point you're going to get a job offer (with whatever you put on your resume)\n",
            "Final Summary - You can try asking the HR departments in the companies you used to work for or checking old tax returns. If you are missing information then just put the year down. It may not be a problem to simply omit information you don't remember or explain that you can't remember it. However, if you need to provide such information, you could consider contacting the HR department of previous employers or even taking a look at old bank statements or tax returns.\n",
            "-------\n",
            "\n",
            "Question - So if you don't 'see' it, then please look at the last 'skill' in the image. I think it's a nice way to end the resume as my 'education' portion resulted in no degree but is there to show that I am educated - just not formally.   So, yes or no?\n",
            "Precited Summary - don't try to use humor in your resume; it will be seen as unprofessional by some . be sure to keep your resume short and focused on yourself and your work experience . if your resume is \"terrible,\" humor is not the way you should solve the problem .\n",
            "Final Summary - Don't do it. You should definitely not include humourous \"skills\" on your resume.\n",
            "-------\n",
            "\n"
          ]
        }
      ],
      "source": [
        "for i in range(MAX_COUNT):\n",
        "    print(\"Question - \" + answersumm[\"test\"][\"question\"][i][\"question\"])\n",
        "    print(\"Precited Summary - \" + final_summaries[i])\n",
        "    print(\"Final Summary - \" + answersumm[\"test\"][\"summaries\"][i][0][0] + \" \" +  answersumm[\"train\"][\"summaries\"][i][0][1])\n",
        "    print(\"-------\")\n",
        "    print()"
      ]
    },
    {
      "cell_type": "code",
      "execution_count": null,
      "metadata": {
        "colab": {
          "base_uri": "https://localhost:8080/"
        },
        "id": "n91jIKgZC6A3",
        "outputId": "d026b4ed-6960-4d1b-bcf1-43268c3c32a5"
      },
      "outputs": [
        {
          "data": {
            "text/plain": [
              "16"
            ]
          },
          "execution_count": 186,
          "metadata": {},
          "output_type": "execute_result"
        }
      ],
      "source": [
        "answersumm[\"train\"][\"answers\"][0][1][\"answer_details\"][\"score\"]"
      ]
    },
    {
      "cell_type": "code",
      "execution_count": null,
      "metadata": {
        "colab": {
          "base_uri": "https://localhost:8080/"
        },
        "id": "zt63NGksdVox",
        "outputId": "d2c11c49-4430-4c6f-f73f-27e5a3933810"
      },
      "outputs": [
        {
          "data": {
            "text/plain": [
              "[{'sents': [{'text': 'If your date of volunteering was given as Nov-2016 then I would assume that you volunteered for the whole month.',\n",
              "    'label': [0],\n",
              "    'label_summ': [0],\n",
              "    'cluster_id': [[-1]]},\n",
              "   {'text': \"If I found out that you actually volunteered for one day only, I would assume that you were intentionally misleading me, that you were totally dishonest, and that you couldn't be trusted.\",\n",
              "    'label': [0],\n",
              "    'label_summ': [0],\n",
              "    'cluster_id': [[-1]]},\n",
              "   {'text': 'That would greatly reduce your chances of being hired.',\n",
              "    'label': [0],\n",
              "    'label_summ': [0],\n",
              "    'cluster_id': [[-1]]},\n",
              "   {'text': 'If you were hired, and part of the reason for taking you and not someone else was the volunteering, then your job would be in extreme danger if this was found out.',\n",
              "    'label': [0],\n",
              "    'label_summ': [0],\n",
              "    'cluster_id': [[-1]]},\n",
              "   {'text': \"You'd be better off not mentioning the volunteering at all.\",\n",
              "    'label': [1],\n",
              "    'label_summ': [1],\n",
              "    'cluster_id': [[0]]},\n",
              "   {'text': 'And seriously, if I read \"volunteering for one day\" I would have questions about your state of mind.',\n",
              "    'label': [0],\n",
              "    'label_summ': [0],\n",
              "    'cluster_id': [[-1]]}],\n",
              "  'answer_details': {'author': 'workplace.stackexchange.com/users/16101/gnasher729',\n",
              "   'score': 54}},\n",
              " {'sents': [{'text': 'Specifying that you volunteered for one event on one day that has no real connection to your job does not really add much to your resume.',\n",
              "    'label': [0],\n",
              "    'label_summ': [0],\n",
              "    'cluster_id': [[-1]]},\n",
              "   {'text': 'Even worse, as mentioned in the other answers, lying about the duration or making it unclear would be a very bad move.',\n",
              "    'label': [0],\n",
              "    'label_summ': [0],\n",
              "    'cluster_id': [[-1]]},\n",
              "   {'text': 'However, if there were multiple one day events similar to this that you participated, you can mention something like \"volunteered in multiple events of my community, such as ...\", which makes it clear that there were short events, but also suggests your implication in the community.',\n",
              "    'label': [0],\n",
              "    'label_summ': [0],\n",
              "    'cluster_id': [[-1]]}],\n",
              "  'answer_details': {'author': 'workplace.stackexchange.com/users/19187/Paul92',\n",
              "   'score': 16}},\n",
              " {'sents': [{'text': 'Can I list one day of volunteer work as “Month-Year”?',\n",
              "    'label': [0],\n",
              "    'label_summ': [0],\n",
              "    'cluster_id': [[-1]]},\n",
              "   {'text': 'Well no.', 'label': [1], 'label_summ': [0], 'cluster_id': [[0]]},\n",
              "   {'text': 'Not at all.',\n",
              "    'label': [1],\n",
              "    'label_summ': [0],\n",
              "    'cluster_id': [[0]]},\n",
              "   {'text': \"What you're suggesting isn't just simplifying your resume or cherry-picking what experience to list.\",\n",
              "    'label': [0],\n",
              "    'label_summ': [0],\n",
              "    'cluster_id': [[-1]]},\n",
              "   {'text': \"You're talking about substantially inflating your experience, i.e. lying on your resume .\",\n",
              "    'label': [0],\n",
              "    'label_summ': [0],\n",
              "    'cluster_id': [[-1]]},\n",
              "   {'text': 'Unless specified, listing anything on your resume as \"Month - Year\" will imply that you spent the majority of that month doing something.',\n",
              "    'label': [0],\n",
              "    'label_summ': [0],\n",
              "    'cluster_id': [[-1]]},\n",
              "   {'text': 'If you were volunteering somewhere for a week you\\'d either list it as \"January - Year //',\n",
              "    'label': [0],\n",
              "    'label_summ': [0],\n",
              "    'cluster_id': [[-1]]},\n",
              "   {'text': 'Taught week-long training course for children\" or, less commonly, \"W3 - Year //',\n",
              "    'label': [0],\n",
              "    'label_summ': [0],\n",
              "    'cluster_id': [[-1]]},\n",
              "   {'text': 'Taught children\\'s training course\".',\n",
              "    'label': [0],\n",
              "    'label_summ': [0],\n",
              "    'cluster_id': [[-1]]},\n",
              "   {'text': 'There is some wiggle room when it comes to rounding off months',\n",
              "    'label': [0],\n",
              "    'label_summ': [0],\n",
              "    'cluster_id': [[-1]]},\n",
              "   {'text': \"but that's only when the interval involved is long ehough.\",\n",
              "    'label': [0],\n",
              "    'label_summ': [0],\n",
              "    'cluster_id': [[-1]]},\n",
              "   {'text': 'So if you officially started on the 31st of July in 2012 it\\'s fine to list \"July 2012 - March 2015\" on your resume.',\n",
              "    'label': [0],\n",
              "    'label_summ': [0],\n",
              "    'cluster_id': [[-1]]},\n",
              "   {'text': 'But doing that if you left after less than a year or two would come across as misrepresenting your experience.',\n",
              "    'label': [0],\n",
              "    'label_summ': [0],\n",
              "    'cluster_id': [[-1]]},\n",
              "   {'text': \"Lying on your resume is such an immense breach of trust that if it was discovered in the interview process you'd be immediately dropped from consideration.\",\n",
              "    'label': [0],\n",
              "    'label_summ': [0],\n",
              "    'cluster_id': [[-1]]},\n",
              "   {'text': \"If it was found out after you started the job you'd risk being fired for cause in many companies but even in companies that don't immediately go that far it would be a giant black mark on your record and reputation.\",\n",
              "    'label': [0],\n",
              "    'label_summ': [0],\n",
              "    'cluster_id': [[-1]]},\n",
              "   {'text': \"The only time where this wouldn't have such a dramatic impact was if it was just an honest mistake or a typo, but that would typically be discovered in an interview.\",\n",
              "    'label': [0],\n",
              "    'label_summ': [0],\n",
              "    'cluster_id': [[-1]]},\n",
              "   {'text': \"If you actually lied about it during an interview, you'll suddenly have plenty of time to write a new resume.\",\n",
              "    'label': [0],\n",
              "    'label_summ': [0],\n",
              "    'cluster_id': [[-1]]}],\n",
              "  'answer_details': {'author': 'workplace.stackexchange.com/users/25739/Lilienthal',\n",
              "   'score': 13}},\n",
              " {'sents': [{'text': 'Why indicate the date?',\n",
              "    'label': [0],\n",
              "    'label_summ': [0],\n",
              "    'cluster_id': [[-1]]},\n",
              "   {'text': 'You could simply indicate the action you took voluntier avoiding that issue.',\n",
              "    'label': [0],\n",
              "    'label_summ': [0],\n",
              "    'cluster_id': [[-1]]}],\n",
              "  'answer_details': {'author': 'workplace.stackexchange.com/users/60395/kohhworlwide',\n",
              "   'score': 4}},\n",
              " {'sents': [{'text': 'Is it a good idea to mention the date of that one day volunteering for a whole month like \"Nov-2016\", although it was actually only one day?',\n",
              "    'label': [0],\n",
              "    'label_summ': [0],\n",
              "    'cluster_id': [[-1]]},\n",
              "   {'text': \"There's absolutely no need to mention any dates in volunteer activities.\",\n",
              "    'label': [1],\n",
              "    'label_summ': [1],\n",
              "    'cluster_id': [[1]]},\n",
              "   {'text': 'Normally, you\\'d list your volunteer work under a heading of \"Volunteer Work\" or such.',\n",
              "    'label': [0],\n",
              "    'label_summ': [0],\n",
              "    'cluster_id': [[-1]]},\n",
              "   {'text': 'Just list the activities with no dates attached.',\n",
              "    'label': [1],\n",
              "    'label_summ': [0],\n",
              "    'cluster_id': [[1]]},\n",
              "   {'text': 'The duration of some will be self-evident Participated in Town Green-up Day Marched in the Annual March for Autism Others will just be non-specific Chaired the Scholarship Committee President of the Youth Services Society You seem to be intending to deceive the reader into thinking your single-day volunteer work was actually more than that.',\n",
              "    'label': [0],\n",
              "    'label_summ': [0],\n",
              "    'cluster_id': [[-1]]},\n",
              "   {'text': 'You would be embarrassed if you are asked about it and only then have to admit it was only a day.',\n",
              "    'label': [0],\n",
              "    'label_summ': [0],\n",
              "    'cluster_id': [[-1]]},\n",
              "   {'text': 'Better not to put yourself in that position.',\n",
              "    'label': [0],\n",
              "    'label_summ': [0],\n",
              "    'cluster_id': [[-1]]}],\n",
              "  'answer_details': {'author': 'workplace.stackexchange.com/users/7777/Joe Strazzere',\n",
              "   'score': 3}}]"
            ]
          },
          "execution_count": 151,
          "metadata": {},
          "output_type": "execute_result"
        }
      ],
      "source": [
        "answersumm[\"train\"][0][\"answers\"]"
      ]
    },
    {
      "cell_type": "code",
      "execution_count": null,
      "metadata": {
        "colab": {
          "base_uri": "https://localhost:8080/"
        },
        "id": "7V_EY5bMfUNk",
        "outputId": "43deb39e-7c06-4f10-f194-45285f2a36f7"
      },
      "outputs": [
        {
          "data": {
            "text/plain": [
              "['interact professionally based on professional roles.',\n",
              " 'say \"mr. doe\" or any standard professional way of referring to him that is appropriate.',\n",
              " 'personal ties outside of work can be a challenge in the workplace for those involved.',\n",
              " 'a parent-child relationship can be particularly difficult.',\n",
              " 'in some cases, the child may struggle to step out of their parent\\'s shadow and be known for their own work, rather than as \"the boss\\'s kid\".',\n",
              " 'in such cases, usually the individuals involved are trying to keep the personal and the professional separate.',\n",
              " 'the most helpful thing for you to do is respect the same divide',\n",
              " ': base your interactions with them on their roles in the company, not on personal factors outside of work.',\n",
              " 'if you say \"your father requested this\", you might be subtly contributing to a difficult situation.',\n",
              " 'note: this may change if you develop more of a relationship with the people involved and interact more casually.',\n",
              " 'but it would be the starting point for professional interaction.']"
            ]
          },
          "execution_count": 140,
          "metadata": {},
          "output_type": "execute_result"
        }
      ],
      "source": [
        "answers[0][0]"
      ]
    }
  ],
  "metadata": {
    "accelerator": "GPU",
    "colab": {
      "provenance": []
    },
    "gpuClass": "standard",
    "kernelspec": {
      "display_name": "Python 3",
      "name": "python3"
    },
    "language_info": {
      "name": "python"
    },
    "widgets": {
      "application/vnd.jupyter.widget-state+json": {
        "08c632cee4d84a5bb3bf8fa034b31045": {
          "model_module": "@jupyter-widgets/base",
          "model_module_version": "1.2.0",
          "model_name": "LayoutModel",
          "state": {
            "_model_module": "@jupyter-widgets/base",
            "_model_module_version": "1.2.0",
            "_model_name": "LayoutModel",
            "_view_count": null,
            "_view_module": "@jupyter-widgets/base",
            "_view_module_version": "1.2.0",
            "_view_name": "LayoutView",
            "align_content": null,
            "align_items": null,
            "align_self": null,
            "border": null,
            "bottom": null,
            "display": null,
            "flex": null,
            "flex_flow": null,
            "grid_area": null,
            "grid_auto_columns": null,
            "grid_auto_flow": null,
            "grid_auto_rows": null,
            "grid_column": null,
            "grid_gap": null,
            "grid_row": null,
            "grid_template_areas": null,
            "grid_template_columns": null,
            "grid_template_rows": null,
            "height": null,
            "justify_content": null,
            "justify_items": null,
            "left": null,
            "margin": null,
            "max_height": null,
            "max_width": null,
            "min_height": null,
            "min_width": null,
            "object_fit": null,
            "object_position": null,
            "order": null,
            "overflow": null,
            "overflow_x": null,
            "overflow_y": null,
            "padding": null,
            "right": null,
            "top": null,
            "visibility": null,
            "width": null
          }
        },
        "21a8bd70ce1a4f95b3c0058db4599c15": {
          "model_module": "@jupyter-widgets/base",
          "model_module_version": "1.2.0",
          "model_name": "LayoutModel",
          "state": {
            "_model_module": "@jupyter-widgets/base",
            "_model_module_version": "1.2.0",
            "_model_name": "LayoutModel",
            "_view_count": null,
            "_view_module": "@jupyter-widgets/base",
            "_view_module_version": "1.2.0",
            "_view_name": "LayoutView",
            "align_content": null,
            "align_items": null,
            "align_self": null,
            "border": null,
            "bottom": null,
            "display": null,
            "flex": null,
            "flex_flow": null,
            "grid_area": null,
            "grid_auto_columns": null,
            "grid_auto_flow": null,
            "grid_auto_rows": null,
            "grid_column": null,
            "grid_gap": null,
            "grid_row": null,
            "grid_template_areas": null,
            "grid_template_columns": null,
            "grid_template_rows": null,
            "height": null,
            "justify_content": null,
            "justify_items": null,
            "left": null,
            "margin": null,
            "max_height": null,
            "max_width": null,
            "min_height": null,
            "min_width": null,
            "object_fit": null,
            "object_position": null,
            "order": null,
            "overflow": null,
            "overflow_x": null,
            "overflow_y": null,
            "padding": null,
            "right": null,
            "top": null,
            "visibility": null,
            "width": null
          }
        },
        "371ecabf36a4455aac9864e689bd164d": {
          "model_module": "@jupyter-widgets/controls",
          "model_module_version": "1.5.0",
          "model_name": "HBoxModel",
          "state": {
            "_dom_classes": [],
            "_model_module": "@jupyter-widgets/controls",
            "_model_module_version": "1.5.0",
            "_model_name": "HBoxModel",
            "_view_count": null,
            "_view_module": "@jupyter-widgets/controls",
            "_view_module_version": "1.5.0",
            "_view_name": "HBoxView",
            "box_style": "",
            "children": [
              "IPY_MODEL_b2b14b250a964cdf861ddddb884136ed",
              "IPY_MODEL_f00131e0edaa4d30a44b0aba46307690",
              "IPY_MODEL_461c8d61e0b54e77a3b3e86d7d0222f5"
            ],
            "layout": "IPY_MODEL_b4e15753e0d14d1c9e1ebb0e3f9362aa"
          }
        },
        "3fa5bb6a5ebf40d48cace3badcb9c7af": {
          "model_module": "@jupyter-widgets/base",
          "model_module_version": "1.2.0",
          "model_name": "LayoutModel",
          "state": {
            "_model_module": "@jupyter-widgets/base",
            "_model_module_version": "1.2.0",
            "_model_name": "LayoutModel",
            "_view_count": null,
            "_view_module": "@jupyter-widgets/base",
            "_view_module_version": "1.2.0",
            "_view_name": "LayoutView",
            "align_content": null,
            "align_items": null,
            "align_self": null,
            "border": null,
            "bottom": null,
            "display": null,
            "flex": null,
            "flex_flow": null,
            "grid_area": null,
            "grid_auto_columns": null,
            "grid_auto_flow": null,
            "grid_auto_rows": null,
            "grid_column": null,
            "grid_gap": null,
            "grid_row": null,
            "grid_template_areas": null,
            "grid_template_columns": null,
            "grid_template_rows": null,
            "height": null,
            "justify_content": null,
            "justify_items": null,
            "left": null,
            "margin": null,
            "max_height": null,
            "max_width": null,
            "min_height": null,
            "min_width": null,
            "object_fit": null,
            "object_position": null,
            "order": null,
            "overflow": null,
            "overflow_x": null,
            "overflow_y": null,
            "padding": null,
            "right": null,
            "top": null,
            "visibility": null,
            "width": null
          }
        },
        "3fc30faa263a42eba9e50b7f6bfaf335": {
          "model_module": "@jupyter-widgets/controls",
          "model_module_version": "1.5.0",
          "model_name": "DescriptionStyleModel",
          "state": {
            "_model_module": "@jupyter-widgets/controls",
            "_model_module_version": "1.5.0",
            "_model_name": "DescriptionStyleModel",
            "_view_count": null,
            "_view_module": "@jupyter-widgets/base",
            "_view_module_version": "1.2.0",
            "_view_name": "StyleView",
            "description_width": ""
          }
        },
        "461c8d61e0b54e77a3b3e86d7d0222f5": {
          "model_module": "@jupyter-widgets/controls",
          "model_module_version": "1.5.0",
          "model_name": "HTMLModel",
          "state": {
            "_dom_classes": [],
            "_model_module": "@jupyter-widgets/controls",
            "_model_module_version": "1.5.0",
            "_model_name": "HTMLModel",
            "_view_count": null,
            "_view_module": "@jupyter-widgets/controls",
            "_view_module_version": "1.5.0",
            "_view_name": "HTMLView",
            "description": "",
            "description_tooltip": null,
            "layout": "IPY_MODEL_21a8bd70ce1a4f95b3c0058db4599c15",
            "placeholder": "​",
            "style": "IPY_MODEL_e5ff4cc8d09c41399d91070d76d928d0",
            "value": " 3/3 [00:00&lt;00:00, 53.34it/s]"
          }
        },
        "5620a29752744efdb0fcac7bb83eadb9": {
          "model_module": "@jupyter-widgets/controls",
          "model_module_version": "1.5.0",
          "model_name": "ProgressStyleModel",
          "state": {
            "_model_module": "@jupyter-widgets/controls",
            "_model_module_version": "1.5.0",
            "_model_name": "ProgressStyleModel",
            "_view_count": null,
            "_view_module": "@jupyter-widgets/base",
            "_view_module_version": "1.2.0",
            "_view_name": "StyleView",
            "bar_color": null,
            "description_width": ""
          }
        },
        "b2b14b250a964cdf861ddddb884136ed": {
          "model_module": "@jupyter-widgets/controls",
          "model_module_version": "1.5.0",
          "model_name": "HTMLModel",
          "state": {
            "_dom_classes": [],
            "_model_module": "@jupyter-widgets/controls",
            "_model_module_version": "1.5.0",
            "_model_name": "HTMLModel",
            "_view_count": null,
            "_view_module": "@jupyter-widgets/controls",
            "_view_module_version": "1.5.0",
            "_view_name": "HTMLView",
            "description": "",
            "description_tooltip": null,
            "layout": "IPY_MODEL_3fa5bb6a5ebf40d48cace3badcb9c7af",
            "placeholder": "​",
            "style": "IPY_MODEL_3fc30faa263a42eba9e50b7f6bfaf335",
            "value": "100%"
          }
        },
        "b4e15753e0d14d1c9e1ebb0e3f9362aa": {
          "model_module": "@jupyter-widgets/base",
          "model_module_version": "1.2.0",
          "model_name": "LayoutModel",
          "state": {
            "_model_module": "@jupyter-widgets/base",
            "_model_module_version": "1.2.0",
            "_model_name": "LayoutModel",
            "_view_count": null,
            "_view_module": "@jupyter-widgets/base",
            "_view_module_version": "1.2.0",
            "_view_name": "LayoutView",
            "align_content": null,
            "align_items": null,
            "align_self": null,
            "border": null,
            "bottom": null,
            "display": null,
            "flex": null,
            "flex_flow": null,
            "grid_area": null,
            "grid_auto_columns": null,
            "grid_auto_flow": null,
            "grid_auto_rows": null,
            "grid_column": null,
            "grid_gap": null,
            "grid_row": null,
            "grid_template_areas": null,
            "grid_template_columns": null,
            "grid_template_rows": null,
            "height": null,
            "justify_content": null,
            "justify_items": null,
            "left": null,
            "margin": null,
            "max_height": null,
            "max_width": null,
            "min_height": null,
            "min_width": null,
            "object_fit": null,
            "object_position": null,
            "order": null,
            "overflow": null,
            "overflow_x": null,
            "overflow_y": null,
            "padding": null,
            "right": null,
            "top": null,
            "visibility": null,
            "width": null
          }
        },
        "e5ff4cc8d09c41399d91070d76d928d0": {
          "model_module": "@jupyter-widgets/controls",
          "model_module_version": "1.5.0",
          "model_name": "DescriptionStyleModel",
          "state": {
            "_model_module": "@jupyter-widgets/controls",
            "_model_module_version": "1.5.0",
            "_model_name": "DescriptionStyleModel",
            "_view_count": null,
            "_view_module": "@jupyter-widgets/base",
            "_view_module_version": "1.2.0",
            "_view_name": "StyleView",
            "description_width": ""
          }
        },
        "f00131e0edaa4d30a44b0aba46307690": {
          "model_module": "@jupyter-widgets/controls",
          "model_module_version": "1.5.0",
          "model_name": "FloatProgressModel",
          "state": {
            "_dom_classes": [],
            "_model_module": "@jupyter-widgets/controls",
            "_model_module_version": "1.5.0",
            "_model_name": "FloatProgressModel",
            "_view_count": null,
            "_view_module": "@jupyter-widgets/controls",
            "_view_module_version": "1.5.0",
            "_view_name": "ProgressView",
            "bar_style": "success",
            "description": "",
            "description_tooltip": null,
            "layout": "IPY_MODEL_08c632cee4d84a5bb3bf8fa034b31045",
            "max": 3,
            "min": 0,
            "orientation": "horizontal",
            "style": "IPY_MODEL_5620a29752744efdb0fcac7bb83eadb9",
            "value": 3
          }
        }
      }
    }
  },
  "nbformat": 4,
  "nbformat_minor": 0
}
